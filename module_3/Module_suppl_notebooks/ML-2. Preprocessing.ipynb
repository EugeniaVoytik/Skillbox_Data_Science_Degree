{
 "cells": [
  {
   "cell_type": "code",
   "execution_count": 40,
   "id": "prime-invalid",
   "metadata": {},
   "outputs": [],
   "source": [
    "import pandas as pd\n",
    "import numpy as np\n",
    "import sklearn.preprocessing\n",
    "\n",
    "import seaborn as sns"
   ]
  },
  {
   "cell_type": "code",
   "execution_count": 135,
   "id": "approximate-apollo",
   "metadata": {},
   "outputs": [
    {
     "data": {
      "text/html": [
       "<div>\n",
       "<style scoped>\n",
       "    .dataframe tbody tr th:only-of-type {\n",
       "        vertical-align: middle;\n",
       "    }\n",
       "\n",
       "    .dataframe tbody tr th {\n",
       "        vertical-align: top;\n",
       "    }\n",
       "\n",
       "    .dataframe thead th {\n",
       "        text-align: right;\n",
       "    }\n",
       "</style>\n",
       "<table border=\"1\" class=\"dataframe\">\n",
       "  <thead>\n",
       "    <tr style=\"text-align: right;\">\n",
       "      <th></th>\n",
       "      <th>id</th>\n",
       "      <th>full_sq</th>\n",
       "      <th>life_sq</th>\n",
       "      <th>floor</th>\n",
       "      <th>sub_area</th>\n",
       "      <th>preschool_quota</th>\n",
       "      <th>preschool_education_centers_raion</th>\n",
       "      <th>school_quota</th>\n",
       "      <th>school_education_centers_raion</th>\n",
       "      <th>school_education_centers_top_20_raion</th>\n",
       "      <th>...</th>\n",
       "      <th>shopping_centers_km</th>\n",
       "      <th>office_km</th>\n",
       "      <th>additional_education_km</th>\n",
       "      <th>preschool_km</th>\n",
       "      <th>big_church_km</th>\n",
       "      <th>church_synagogue_km</th>\n",
       "      <th>theater_km</th>\n",
       "      <th>museum_km</th>\n",
       "      <th>ecology</th>\n",
       "      <th>price_doc</th>\n",
       "    </tr>\n",
       "  </thead>\n",
       "  <tbody>\n",
       "    <tr>\n",
       "      <th>0</th>\n",
       "      <td>1</td>\n",
       "      <td>43</td>\n",
       "      <td>27.0</td>\n",
       "      <td>4.0</td>\n",
       "      <td>Bibirevo</td>\n",
       "      <td>5001.0</td>\n",
       "      <td>5</td>\n",
       "      <td>11065.0</td>\n",
       "      <td>5</td>\n",
       "      <td>0</td>\n",
       "      <td>...</td>\n",
       "      <td>0.648488</td>\n",
       "      <td>0.637189</td>\n",
       "      <td>0.947962</td>\n",
       "      <td>0.177975</td>\n",
       "      <td>0.625783</td>\n",
       "      <td>0.628187</td>\n",
       "      <td>14.053047</td>\n",
       "      <td>7.389498</td>\n",
       "      <td>good</td>\n",
       "      <td>5850000</td>\n",
       "    </tr>\n",
       "    <tr>\n",
       "      <th>1</th>\n",
       "      <td>2</td>\n",
       "      <td>34</td>\n",
       "      <td>19.0</td>\n",
       "      <td>3.0</td>\n",
       "      <td>Nagatinskij Zaton</td>\n",
       "      <td>3119.0</td>\n",
       "      <td>5</td>\n",
       "      <td>6237.0</td>\n",
       "      <td>8</td>\n",
       "      <td>0</td>\n",
       "      <td>...</td>\n",
       "      <td>0.519311</td>\n",
       "      <td>0.688796</td>\n",
       "      <td>1.072315</td>\n",
       "      <td>0.273345</td>\n",
       "      <td>0.967821</td>\n",
       "      <td>0.471447</td>\n",
       "      <td>6.829889</td>\n",
       "      <td>0.709260</td>\n",
       "      <td>excellent</td>\n",
       "      <td>6000000</td>\n",
       "    </tr>\n",
       "    <tr>\n",
       "      <th>2</th>\n",
       "      <td>3</td>\n",
       "      <td>43</td>\n",
       "      <td>29.0</td>\n",
       "      <td>2.0</td>\n",
       "      <td>Tekstil'shhiki</td>\n",
       "      <td>1463.0</td>\n",
       "      <td>4</td>\n",
       "      <td>5580.0</td>\n",
       "      <td>7</td>\n",
       "      <td>0</td>\n",
       "      <td>...</td>\n",
       "      <td>1.486533</td>\n",
       "      <td>1.543049</td>\n",
       "      <td>0.391957</td>\n",
       "      <td>0.158072</td>\n",
       "      <td>3.178751</td>\n",
       "      <td>0.755946</td>\n",
       "      <td>4.273200</td>\n",
       "      <td>3.156423</td>\n",
       "      <td>poor</td>\n",
       "      <td>5700000</td>\n",
       "    </tr>\n",
       "    <tr>\n",
       "      <th>3</th>\n",
       "      <td>4</td>\n",
       "      <td>89</td>\n",
       "      <td>50.0</td>\n",
       "      <td>9.0</td>\n",
       "      <td>Mitino</td>\n",
       "      <td>6839.0</td>\n",
       "      <td>9</td>\n",
       "      <td>17063.0</td>\n",
       "      <td>10</td>\n",
       "      <td>0</td>\n",
       "      <td>...</td>\n",
       "      <td>0.599914</td>\n",
       "      <td>0.934273</td>\n",
       "      <td>0.892674</td>\n",
       "      <td>0.236455</td>\n",
       "      <td>1.031777</td>\n",
       "      <td>1.561505</td>\n",
       "      <td>16.990677</td>\n",
       "      <td>16.041521</td>\n",
       "      <td>good</td>\n",
       "      <td>13100000</td>\n",
       "    </tr>\n",
       "    <tr>\n",
       "      <th>4</th>\n",
       "      <td>5</td>\n",
       "      <td>77</td>\n",
       "      <td>77.0</td>\n",
       "      <td>4.0</td>\n",
       "      <td>Basmannoe</td>\n",
       "      <td>3240.0</td>\n",
       "      <td>7</td>\n",
       "      <td>7770.0</td>\n",
       "      <td>9</td>\n",
       "      <td>0</td>\n",
       "      <td>...</td>\n",
       "      <td>0.429052</td>\n",
       "      <td>0.077901</td>\n",
       "      <td>0.810801</td>\n",
       "      <td>0.376838</td>\n",
       "      <td>0.378756</td>\n",
       "      <td>0.121681</td>\n",
       "      <td>1.112486</td>\n",
       "      <td>1.800125</td>\n",
       "      <td>excellent</td>\n",
       "      <td>16331452</td>\n",
       "    </tr>\n",
       "  </tbody>\n",
       "</table>\n",
       "<p>5 rows × 56 columns</p>\n",
       "</div>"
      ],
      "text/plain": [
       "   id  full_sq  life_sq  floor           sub_area  preschool_quota  \\\n",
       "0   1       43     27.0    4.0           Bibirevo           5001.0   \n",
       "1   2       34     19.0    3.0  Nagatinskij Zaton           3119.0   \n",
       "2   3       43     29.0    2.0     Tekstil'shhiki           1463.0   \n",
       "3   4       89     50.0    9.0             Mitino           6839.0   \n",
       "4   5       77     77.0    4.0          Basmannoe           3240.0   \n",
       "\n",
       "   preschool_education_centers_raion  school_quota  \\\n",
       "0                                  5       11065.0   \n",
       "1                                  5        6237.0   \n",
       "2                                  4        5580.0   \n",
       "3                                  9       17063.0   \n",
       "4                                  7        7770.0   \n",
       "\n",
       "   school_education_centers_raion  school_education_centers_top_20_raion  ...  \\\n",
       "0                               5                                      0  ...   \n",
       "1                               8                                      0  ...   \n",
       "2                               7                                      0  ...   \n",
       "3                              10                                      0  ...   \n",
       "4                               9                                      0  ...   \n",
       "\n",
       "   shopping_centers_km  office_km  additional_education_km  preschool_km  \\\n",
       "0             0.648488   0.637189                 0.947962      0.177975   \n",
       "1             0.519311   0.688796                 1.072315      0.273345   \n",
       "2             1.486533   1.543049                 0.391957      0.158072   \n",
       "3             0.599914   0.934273                 0.892674      0.236455   \n",
       "4             0.429052   0.077901                 0.810801      0.376838   \n",
       "\n",
       "   big_church_km  church_synagogue_km  theater_km  museum_km    ecology  \\\n",
       "0       0.625783             0.628187   14.053047   7.389498       good   \n",
       "1       0.967821             0.471447    6.829889   0.709260  excellent   \n",
       "2       3.178751             0.755946    4.273200   3.156423       poor   \n",
       "3       1.031777             1.561505   16.990677  16.041521       good   \n",
       "4       0.378756             0.121681    1.112486   1.800125  excellent   \n",
       "\n",
       "   price_doc  \n",
       "0    5850000  \n",
       "1    6000000  \n",
       "2    5700000  \n",
       "3   13100000  \n",
       "4   16331452  \n",
       "\n",
       "[5 rows x 56 columns]"
      ]
     },
     "execution_count": 135,
     "metadata": {},
     "output_type": "execute_result"
    }
   ],
   "source": [
    "data = pd.read_csv('../data/data_flats.csv',sep=\";\")\n",
    "data.head()"
   ]
  },
  {
   "cell_type": "code",
   "execution_count": 36,
   "id": "amino-guide",
   "metadata": {},
   "outputs": [
    {
     "name": "stdout",
     "output_type": "stream",
     "text": [
      "<class 'pandas.core.frame.DataFrame'>\n",
      "RangeIndex: 30469 entries, 0 to 30468\n",
      "Data columns (total 56 columns):\n",
      " #   Column                                 Non-Null Count  Dtype  \n",
      "---  ------                                 --------------  -----  \n",
      " 0   id                                     30469 non-null  int64  \n",
      " 1   full_sq                                30469 non-null  int64  \n",
      " 2   life_sq                                24086 non-null  float64\n",
      " 3   floor                                  30302 non-null  float64\n",
      " 4   sub_area                               30469 non-null  object \n",
      " 5   preschool_quota                        23781 non-null  float64\n",
      " 6   preschool_education_centers_raion      30469 non-null  int64  \n",
      " 7   school_quota                           23784 non-null  float64\n",
      " 8   school_education_centers_raion         30469 non-null  int64  \n",
      " 9   school_education_centers_top_20_raion  30469 non-null  int64  \n",
      " 10  hospital_beds_raion                    16029 non-null  float64\n",
      " 11  healthcare_centers_raion               30469 non-null  int64  \n",
      " 12  university_top_20_raion                30469 non-null  int64  \n",
      " 13  sport_objects_raion                    30469 non-null  int64  \n",
      " 14  additional_education_raion             30469 non-null  int64  \n",
      " 15  culture_objects_top_25_raion           30469 non-null  int64  \n",
      " 16  shopping_centers_raion                 30469 non-null  int64  \n",
      " 17  office_raion                           30469 non-null  int64  \n",
      " 18  metro_min_avto                         30469 non-null  float64\n",
      " 19  metro_km_avto                          30469 non-null  float64\n",
      " 20  metro_min_walk                         30444 non-null  float64\n",
      " 21  metro_km_walk                          30444 non-null  float64\n",
      " 22  kindergarten_km                        30469 non-null  float64\n",
      " 23  school_km                              30469 non-null  float64\n",
      " 24  park_km                                30469 non-null  float64\n",
      " 25  green_zone_km                          30469 non-null  float64\n",
      " 26  industrial_km                          30469 non-null  float64\n",
      " 27  railroad_station_walk_km               30444 non-null  float64\n",
      " 28  railroad_station_walk_min              30444 non-null  float64\n",
      " 29  public_transport_station_km            30469 non-null  float64\n",
      " 30  public_transport_station_min_walk      30469 non-null  float64\n",
      " 31  mkad_km                                30469 non-null  float64\n",
      " 32  ttk_km                                 30469 non-null  float64\n",
      " 33  sadovoe_km                             30469 non-null  float64\n",
      " 34  bulvar_ring_km                         30469 non-null  float64\n",
      " 35  kremlin_km                             30469 non-null  float64\n",
      " 36  big_market_km                          30469 non-null  float64\n",
      " 37  market_shop_km                         30469 non-null  float64\n",
      " 38  fitness_km                             30469 non-null  float64\n",
      " 39  swim_pool_km                           30469 non-null  float64\n",
      " 40  ice_rink_km                            30469 non-null  float64\n",
      " 41  stadium_km                             30469 non-null  float64\n",
      " 42  basketball_km                          30469 non-null  float64\n",
      " 43  hospice_morgue_km                      30469 non-null  float64\n",
      " 44  university_km                          30469 non-null  float64\n",
      " 45  workplaces_km                          30469 non-null  float64\n",
      " 46  shopping_centers_km                    30469 non-null  float64\n",
      " 47  office_km                              30469 non-null  float64\n",
      " 48  additional_education_km                30469 non-null  float64\n",
      " 49  preschool_km                           30469 non-null  float64\n",
      " 50  big_church_km                          30469 non-null  float64\n",
      " 51  church_synagogue_km                    30469 non-null  float64\n",
      " 52  theater_km                             30469 non-null  float64\n",
      " 53  museum_km                              30469 non-null  float64\n",
      " 54  ecology                                30469 non-null  object \n",
      " 55  price_doc                              30469 non-null  int64  \n",
      "dtypes: float64(41), int64(13), object(2)\n",
      "memory usage: 13.0+ MB\n"
     ]
    }
   ],
   "source": [
    "data.info()"
   ]
  },
  {
   "cell_type": "code",
   "execution_count": 105,
   "id": "framed-graduate",
   "metadata": {},
   "outputs": [],
   "source": [
    "data_subset = data[data.sub_area.isin(['Basmannoe', 'Perovo', 'Lefortovo', 'Bogorodskoe'])]"
   ]
  },
  {
   "cell_type": "code",
   "execution_count": 106,
   "id": "wound-opinion",
   "metadata": {},
   "outputs": [
    {
     "data": {
      "image/png": "[encoded data removed]",
      "text/plain": [
       "<Figure size 432x288 with 1 Axes>"
      ]
     },
     "metadata": {
      "needs_background": "light"
     },
     "output_type": "display_data"
    }
   ],
   "source": [
    "sns.boxplot(data=data_subset, x='sub_area', y='price_doc');"
   ]
  },
  {
   "cell_type": "code",
   "execution_count": 139,
   "id": "greater-grave",
   "metadata": {},
   "outputs": [],
   "source": [
    "ecology_dict = {'no data': 0, 'poor': 1, 'satisfactory': 2, 'good': 3, 'excellent': 4}"
   ]
  },
  {
   "cell_type": "code",
   "execution_count": 126,
   "id": "healthy-berkeley",
   "metadata": {},
   "outputs": [],
   "source": [
    "# data.ecology = data.ecology.map(ecology_dict)"
   ]
  },
  {
   "cell_type": "code",
   "execution_count": 140,
   "id": "seeing-opera",
   "metadata": {},
   "outputs": [],
   "source": [
    "# OR\n",
    "data.ecology = data.ecology.replace(to_replace=ecology_dict)"
   ]
  },
  {
   "cell_type": "code",
   "execution_count": 142,
   "id": "nasty-facial",
   "metadata": {},
   "outputs": [],
   "source": [
    "dummies = pd.get_dummies(data.sub_area, drop_first=False)"
   ]
  },
  {
   "cell_type": "code",
   "execution_count": 143,
   "id": "computational-metabolism",
   "metadata": {},
   "outputs": [],
   "source": [
    "final_df = pd.concat([data, dummies], axis=1).drop('sub_area', axis=1)"
   ]
  },
  {
   "cell_type": "code",
   "execution_count": 145,
   "id": "excellent-amount",
   "metadata": {},
   "outputs": [
    {
     "data": {
      "text/plain": [
       "1.73"
      ]
     },
     "execution_count": 145,
     "metadata": {},
     "output_type": "execute_result"
    }
   ],
   "source": [
    "round(final_df.ecology.mean(), 2)"
   ]
  },
  {
   "cell_type": "code",
   "execution_count": 95,
   "id": "regulation-albuquerque",
   "metadata": {},
   "outputs": [],
   "source": [
    "subareas_with_freqs = data.sub_area.value_counts().to_list()\n",
    "top_subareas_count = int(np.percentile(subareas_with_freqs, 90))"
   ]
  },
  {
   "cell_type": "code",
   "execution_count": 101,
   "id": "english-corner",
   "metadata": {},
   "outputs": [
    {
     "data": {
      "text/plain": [
       "Index(['Poselenie Sosenskoe', 'Nekrasovka', 'Poselenie Vnukovskoe',\n",
       "       'Poselenie Moskovskij', 'Poselenie Voskresenskoe', 'Mitino', 'Tverskoe',\n",
       "       'Krjukovo', 'Mar'ino', 'Poselenie Filimonkovskoe', 'Juzhnoe Butovo',\n",
       "       'Poselenie Shherbinka', 'Solncevo', 'Zapadnoe Degunino',\n",
       "       'Poselenie Desjonovskoe'],\n",
       "      dtype='object')"
      ]
     },
     "execution_count": 101,
     "metadata": {},
     "output_type": "execute_result"
    }
   ],
   "source": [
    "all_subareas = data.sub_area.value_counts()[data.sub_area.value_counts() > top_subareas_count].index\n",
    "all_subareas"
   ]
  },
  {
   "cell_type": "code",
   "execution_count": 103,
   "id": "numerical-community",
   "metadata": {},
   "outputs": [],
   "source": [
    "data.loc[~data.sub_area.isin(all_subareas), 'sub_area'] = 'Other'"
   ]
  },
  {
   "cell_type": "code",
   "execution_count": null,
   "id": "hungarian-sullivan",
   "metadata": {},
   "outputs": [],
   "source": []
  },
  {
   "cell_type": "markdown",
   "id": "bronze-treaty",
   "metadata": {},
   "source": [
    "***"
   ]
  },
  {
   "cell_type": "code",
   "execution_count": 10,
   "id": "young-hacker",
   "metadata": {},
   "outputs": [
    {
     "data": {
      "text/html": [
       "<div>\n",
       "<style scoped>\n",
       "    .dataframe tbody tr th:only-of-type {\n",
       "        vertical-align: middle;\n",
       "    }\n",
       "\n",
       "    .dataframe tbody tr th {\n",
       "        vertical-align: top;\n",
       "    }\n",
       "\n",
       "    .dataframe thead th {\n",
       "        text-align: right;\n",
       "    }\n",
       "</style>\n",
       "<table border=\"1\" class=\"dataframe\">\n",
       "  <thead>\n",
       "    <tr style=\"text-align: right;\">\n",
       "      <th></th>\n",
       "      <th>ticket_id</th>\n",
       "      <th>agency_name</th>\n",
       "      <th>inspector_name</th>\n",
       "      <th>violator_name</th>\n",
       "      <th>violation_street_number</th>\n",
       "      <th>violation_street_name</th>\n",
       "      <th>violation_zip_code</th>\n",
       "      <th>mailing_address_str_number</th>\n",
       "      <th>mailing_address_str_name</th>\n",
       "      <th>city</th>\n",
       "      <th>...</th>\n",
       "      <th>clean_up_cost</th>\n",
       "      <th>judgment_amount</th>\n",
       "      <th>payment_amount</th>\n",
       "      <th>balance_due</th>\n",
       "      <th>payment_date</th>\n",
       "      <th>payment_status</th>\n",
       "      <th>collection_status</th>\n",
       "      <th>grafitti_status</th>\n",
       "      <th>compliance_detail</th>\n",
       "      <th>compliance</th>\n",
       "    </tr>\n",
       "  </thead>\n",
       "  <tbody>\n",
       "    <tr>\n",
       "      <th>0</th>\n",
       "      <td>22056</td>\n",
       "      <td>Buildings, Safety Engineering &amp; Env Department</td>\n",
       "      <td>Sims, Martinzie</td>\n",
       "      <td>INVESTMENT INC., MIDWEST MORTGAGE</td>\n",
       "      <td>2900.0</td>\n",
       "      <td>TYLER</td>\n",
       "      <td>NaN</td>\n",
       "      <td>3.0</td>\n",
       "      <td>S. WICKER</td>\n",
       "      <td>CHICAGO</td>\n",
       "      <td>...</td>\n",
       "      <td>0.0</td>\n",
       "      <td>305.0</td>\n",
       "      <td>0.0</td>\n",
       "      <td>305.0</td>\n",
       "      <td>NaN</td>\n",
       "      <td>NO PAYMENT APPLIED</td>\n",
       "      <td>NaN</td>\n",
       "      <td>NaN</td>\n",
       "      <td>non-compliant by no payment</td>\n",
       "      <td>0.0</td>\n",
       "    </tr>\n",
       "    <tr>\n",
       "      <th>1</th>\n",
       "      <td>27586</td>\n",
       "      <td>Buildings, Safety Engineering &amp; Env Department</td>\n",
       "      <td>Williams, Darrin</td>\n",
       "      <td>Michigan, Covenant House</td>\n",
       "      <td>4311.0</td>\n",
       "      <td>CENTRAL</td>\n",
       "      <td>NaN</td>\n",
       "      <td>2959.0</td>\n",
       "      <td>Martin Luther King</td>\n",
       "      <td>Detroit</td>\n",
       "      <td>...</td>\n",
       "      <td>0.0</td>\n",
       "      <td>855.0</td>\n",
       "      <td>780.0</td>\n",
       "      <td>75.0</td>\n",
       "      <td>2005-06-02 00:00:00</td>\n",
       "      <td>PAID IN FULL</td>\n",
       "      <td>NaN</td>\n",
       "      <td>NaN</td>\n",
       "      <td>compliant by late payment within 1 month</td>\n",
       "      <td>1.0</td>\n",
       "    </tr>\n",
       "    <tr>\n",
       "      <th>2</th>\n",
       "      <td>22062</td>\n",
       "      <td>Buildings, Safety Engineering &amp; Env Department</td>\n",
       "      <td>Sims, Martinzie</td>\n",
       "      <td>SANDERS, DERRON</td>\n",
       "      <td>1449.0</td>\n",
       "      <td>LONGFELLOW</td>\n",
       "      <td>NaN</td>\n",
       "      <td>23658.0</td>\n",
       "      <td>P.O. BOX</td>\n",
       "      <td>DETROIT</td>\n",
       "      <td>...</td>\n",
       "      <td>0.0</td>\n",
       "      <td>0.0</td>\n",
       "      <td>0.0</td>\n",
       "      <td>0.0</td>\n",
       "      <td>NaN</td>\n",
       "      <td>NO PAYMENT APPLIED</td>\n",
       "      <td>NaN</td>\n",
       "      <td>NaN</td>\n",
       "      <td>not responsible by disposition</td>\n",
       "      <td>NaN</td>\n",
       "    </tr>\n",
       "    <tr>\n",
       "      <th>3</th>\n",
       "      <td>22084</td>\n",
       "      <td>Buildings, Safety Engineering &amp; Env Department</td>\n",
       "      <td>Sims, Martinzie</td>\n",
       "      <td>MOROSI, MIKE</td>\n",
       "      <td>1441.0</td>\n",
       "      <td>LONGFELLOW</td>\n",
       "      <td>NaN</td>\n",
       "      <td>5.0</td>\n",
       "      <td>ST. CLAIR</td>\n",
       "      <td>DETROIT</td>\n",
       "      <td>...</td>\n",
       "      <td>0.0</td>\n",
       "      <td>0.0</td>\n",
       "      <td>0.0</td>\n",
       "      <td>0.0</td>\n",
       "      <td>NaN</td>\n",
       "      <td>NO PAYMENT APPLIED</td>\n",
       "      <td>NaN</td>\n",
       "      <td>NaN</td>\n",
       "      <td>not responsible by disposition</td>\n",
       "      <td>NaN</td>\n",
       "    </tr>\n",
       "    <tr>\n",
       "      <th>4</th>\n",
       "      <td>22093</td>\n",
       "      <td>Buildings, Safety Engineering &amp; Env Department</td>\n",
       "      <td>Sims, Martinzie</td>\n",
       "      <td>NATHANIEL, NEAL</td>\n",
       "      <td>2449.0</td>\n",
       "      <td>CHURCHILL</td>\n",
       "      <td>NaN</td>\n",
       "      <td>7449.0</td>\n",
       "      <td>CHURCHILL</td>\n",
       "      <td>DETROIT</td>\n",
       "      <td>...</td>\n",
       "      <td>0.0</td>\n",
       "      <td>0.0</td>\n",
       "      <td>0.0</td>\n",
       "      <td>0.0</td>\n",
       "      <td>NaN</td>\n",
       "      <td>NO PAYMENT APPLIED</td>\n",
       "      <td>NaN</td>\n",
       "      <td>NaN</td>\n",
       "      <td>not responsible by disposition</td>\n",
       "      <td>NaN</td>\n",
       "    </tr>\n",
       "  </tbody>\n",
       "</table>\n",
       "<p>5 rows × 34 columns</p>\n",
       "</div>"
      ],
      "text/plain": [
       "   ticket_id                                     agency_name  \\\n",
       "0      22056  Buildings, Safety Engineering & Env Department   \n",
       "1      27586  Buildings, Safety Engineering & Env Department   \n",
       "2      22062  Buildings, Safety Engineering & Env Department   \n",
       "3      22084  Buildings, Safety Engineering & Env Department   \n",
       "4      22093  Buildings, Safety Engineering & Env Department   \n",
       "\n",
       "     inspector_name                      violator_name  \\\n",
       "0   Sims, Martinzie  INVESTMENT INC., MIDWEST MORTGAGE   \n",
       "1  Williams, Darrin           Michigan, Covenant House   \n",
       "2   Sims, Martinzie                    SANDERS, DERRON   \n",
       "3   Sims, Martinzie                       MOROSI, MIKE   \n",
       "4   Sims, Martinzie                    NATHANIEL, NEAL   \n",
       "\n",
       "   violation_street_number violation_street_name  violation_zip_code  \\\n",
       "0                   2900.0                 TYLER                 NaN   \n",
       "1                   4311.0               CENTRAL                 NaN   \n",
       "2                   1449.0            LONGFELLOW                 NaN   \n",
       "3                   1441.0            LONGFELLOW                 NaN   \n",
       "4                   2449.0             CHURCHILL                 NaN   \n",
       "\n",
       "   mailing_address_str_number mailing_address_str_name     city  ...  \\\n",
       "0                         3.0                S. WICKER  CHICAGO  ...   \n",
       "1                      2959.0       Martin Luther King  Detroit  ...   \n",
       "2                     23658.0                 P.O. BOX  DETROIT  ...   \n",
       "3                         5.0                ST. CLAIR  DETROIT  ...   \n",
       "4                      7449.0                CHURCHILL  DETROIT  ...   \n",
       "\n",
       "  clean_up_cost judgment_amount payment_amount balance_due  \\\n",
       "0           0.0           305.0            0.0       305.0   \n",
       "1           0.0           855.0          780.0        75.0   \n",
       "2           0.0             0.0            0.0         0.0   \n",
       "3           0.0             0.0            0.0         0.0   \n",
       "4           0.0             0.0            0.0         0.0   \n",
       "\n",
       "          payment_date      payment_status collection_status grafitti_status  \\\n",
       "0                  NaN  NO PAYMENT APPLIED               NaN             NaN   \n",
       "1  2005-06-02 00:00:00        PAID IN FULL               NaN             NaN   \n",
       "2                  NaN  NO PAYMENT APPLIED               NaN             NaN   \n",
       "3                  NaN  NO PAYMENT APPLIED               NaN             NaN   \n",
       "4                  NaN  NO PAYMENT APPLIED               NaN             NaN   \n",
       "\n",
       "                          compliance_detail  compliance  \n",
       "0               non-compliant by no payment         0.0  \n",
       "1  compliant by late payment within 1 month         1.0  \n",
       "2            not responsible by disposition         NaN  \n",
       "3            not responsible by disposition         NaN  \n",
       "4            not responsible by disposition         NaN  \n",
       "\n",
       "[5 rows x 34 columns]"
      ]
     },
     "execution_count": 10,
     "metadata": {},
     "output_type": "execute_result"
    }
   ],
   "source": [
    "train_data = pd.read_csv(\"../data/train.csv\", encoding = 'ISO-8859-1', low_memory = False)\n",
    "train_data.head()"
   ]
  },
  {
   "cell_type": "code",
   "execution_count": 44,
   "id": "harmful-setup",
   "metadata": {},
   "outputs": [],
   "source": [
    "train_data_balance = train_data.balance_due.values.reshape((250306,1))"
   ]
  },
  {
   "cell_type": "code",
   "execution_count": 45,
   "id": "isolated-fifteen",
   "metadata": {},
   "outputs": [],
   "source": [
    "std_scaler = sklearn.preprocessing.StandardScaler()\n",
    "output = std_scaler.fit_transform(train_data_balance)"
   ]
  },
  {
   "cell_type": "code",
   "execution_count": 46,
   "id": "incorrect-moses",
   "metadata": {},
   "outputs": [
    {
     "data": {
      "text/plain": [
       "-13.14733"
      ]
     },
     "execution_count": 46,
     "metadata": {},
     "output_type": "execute_result"
    }
   ],
   "source": [
    "round(output.min(), 5)"
   ]
  },
  {
   "cell_type": "code",
   "execution_count": 30,
   "id": "crude-visit",
   "metadata": {},
   "outputs": [],
   "source": [
    "balance_sqrt = np.sqrt(train_data[train_data.balance_due>0].balance_due)"
   ]
  },
  {
   "cell_type": "code",
   "execution_count": 34,
   "id": "traditional-potato",
   "metadata": {},
   "outputs": [
    {
     "data": {
      "text/plain": [
       "0.452596"
      ]
     },
     "execution_count": 34,
     "metadata": {},
     "output_type": "execute_result"
    }
   ],
   "source": [
    "round(np.abs(balance_sqrt.mean() - balance_sqrt.median()), 6)"
   ]
  },
  {
   "cell_type": "code",
   "execution_count": 52,
   "id": "negative-salad",
   "metadata": {},
   "outputs": [],
   "source": [
    "pf = sklearn.preprocessing.PolynomialFeatures(3)\n",
    "pf3_output = pf.fit_transform(train_data[['balance_due', 'payment_amount']])"
   ]
  },
  {
   "cell_type": "code",
   "execution_count": 64,
   "id": "cross-above",
   "metadata": {},
   "outputs": [
    {
     "data": {
      "text/plain": [
       "6"
      ]
     },
     "execution_count": 64,
     "metadata": {},
     "output_type": "execute_result"
    }
   ],
   "source": [
    "pf3_output.mean(axis=0).argmax()"
   ]
  },
  {
   "cell_type": "code",
   "execution_count": 68,
   "id": "colonial-japan",
   "metadata": {},
   "outputs": [
    {
     "name": "stdout",
     "output_type": "stream",
     "text": [
      "ticket_issued_date\n",
      "hearing_date\n",
      "payment_date\n"
     ]
    }
   ],
   "source": [
    "for each in train_data.columns:\n",
    "    if 'date' in each:\n",
    "        print(each)"
   ]
  },
  {
   "cell_type": "code",
   "execution_count": 71,
   "id": "whole-commission",
   "metadata": {},
   "outputs": [],
   "source": [
    "train_data.ticket_issued_date = pd.to_datetime(train_data.ticket_issued_date)"
   ]
  },
  {
   "cell_type": "code",
   "execution_count": 74,
   "id": "roman-electric",
   "metadata": {},
   "outputs": [
    {
     "data": {
      "text/plain": [
       "1620"
      ]
     },
     "execution_count": 74,
     "metadata": {},
     "output_type": "execute_result"
    }
   ],
   "source": [
    "sum(train_data.ticket_issued_date.dt.weekday > 4)"
   ]
  },
  {
   "cell_type": "code",
   "execution_count": 163,
   "id": "fancy-hanging",
   "metadata": {},
   "outputs": [],
   "source": [
    "def outliers_iqr(ys):\n",
    "    quartile_1, quartile_3 = np.percentile(ys, [25, 75])\n",
    "    iqr = quartile_3 - quartile_1\n",
    "    lower_bound = quartile_1 - (iqr * 1.5)\n",
    "    upper_bound = quartile_3 + (iqr * 1.5)\n",
    "    return np.where((ys > upper_bound) | (ys < lower_bound))[0]\n",
    "\n",
    "outliers_index = outliers_iqr(train_data.balance_due.dropna())"
   ]
  },
  {
   "cell_type": "code",
   "execution_count": 164,
   "id": "annoying-street",
   "metadata": {},
   "outputs": [],
   "source": [
    "train_data_balance_removed_outliers = train_data.loc[~train_data.index.isin(outliers_index), 'balance_due']"
   ]
  },
  {
   "cell_type": "code",
   "execution_count": 165,
   "id": "foreign-lying",
   "metadata": {},
   "outputs": [
    {
     "data": {
      "text/plain": [
       "1201.3"
      ]
     },
     "execution_count": 165,
     "metadata": {},
     "output_type": "execute_result"
    }
   ],
   "source": [
    "train_data_balance_removed_outliers.max() - train_data_balance_removed_outliers.min()"
   ]
  },
  {
   "cell_type": "code",
   "execution_count": null,
   "id": "sonic-rouge",
   "metadata": {},
   "outputs": [],
   "source": []
  }
 ],
 "metadata": {
  "kernelspec": {
   "display_name": "Python 3",
   "language": "python",
   "name": "python3"
  },
  "language_info": {
   "codemirror_mode": {
    "name": "ipython",
    "version": 3
   },
   "file_extension": ".py",
   "mimetype": "text/x-python",
   "name": "python",
   "nbconvert_exporter": "python",
   "pygments_lexer": "ipython3",
   "version": "3.8.0"
  }
 },
 "nbformat": 4,
 "nbformat_minor": 5
}
