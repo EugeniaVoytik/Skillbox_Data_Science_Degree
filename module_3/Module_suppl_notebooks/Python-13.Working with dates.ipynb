{
 "cells": [
  {
   "cell_type": "markdown",
   "id": "tutorial-variety",
   "metadata": {},
   "source": [
    "### An important to the documentation:\n",
    " - https://docs.python.org/3/library/datetime.html"
   ]
  },
  {
   "cell_type": "code",
   "execution_count": 1,
   "id": "humanitarian-hamilton",
   "metadata": {},
   "outputs": [],
   "source": [
    "# for 2019-03-01\n",
    "date_string = '%Y-%m-%d'"
   ]
  },
  {
   "cell_type": "code",
   "execution_count": 4,
   "id": "oriental-cycle",
   "metadata": {},
   "outputs": [],
   "source": [
    "# for 2019-04-01T06:30:00\n",
    "date_string_2 = '%Y-%m-%dT%H:%M:%S'"
   ]
  },
  {
   "cell_type": "markdown",
   "id": "linear-debut",
   "metadata": {},
   "source": [
    "## Posix time (also known as Epoch time or Unix time) \n",
    "\n",
    "Unix time is a system for describing points in time, defined as the number of seconds elapsed since midnight of January 1, 1970 (UTC). By using this function you can convert a datetime value to a numerical value.\n",
    "\n"
   ]
  },
  {
   "cell_type": "code",
   "execution_count": 5,
   "id": "sexual-sister",
   "metadata": {},
   "outputs": [],
   "source": [
    "# 14.06.2019 08:00 AM\n",
    "date_string_3 = '%d.%m.%Y %I:%M %p'"
   ]
  },
  {
   "cell_type": "code",
   "execution_count": 6,
   "id": "departmental-competition",
   "metadata": {},
   "outputs": [],
   "source": [
    "# 1 May 2019 23:59\n",
    "date_string_4 = '%d %B %Y %H:%M'"
   ]
  },
  {
   "cell_type": "code",
   "execution_count": 13,
   "id": "executive-shape",
   "metadata": {},
   "outputs": [
    {
     "data": {
      "text/plain": [
       "1546297200.0"
      ]
     },
     "execution_count": 13,
     "metadata": {},
     "output_type": "execute_result"
    }
   ],
   "source": [
    "import datetime\n",
    "datetime.datetime(2019, 1, 1, 0, 0, 0).timestamp()"
   ]
  },
  {
   "cell_type": "code",
   "execution_count": 14,
   "id": "familiar-headquarters",
   "metadata": {},
   "outputs": [
    {
     "data": {
      "text/plain": [
       "2592000.0"
      ]
     },
     "execution_count": 14,
     "metadata": {},
     "output_type": "execute_result"
    }
   ],
   "source": [
    "datetime.datetime(2019, 1, 31, 0, 0, 0).timestamp() - datetime.datetime(2019, 1, 1, 0, 0, 0).timestamp()"
   ]
  },
  {
   "cell_type": "code",
   "execution_count": 15,
   "id": "powerful-language",
   "metadata": {},
   "outputs": [
    {
     "data": {
      "text/plain": [
       "86400.0"
      ]
     },
     "execution_count": 15,
     "metadata": {},
     "output_type": "execute_result"
    }
   ],
   "source": [
    "datetime.datetime(2019, 1, 2, 0, 0, 0).timestamp() - datetime.datetime(2019, 1, 1, 0, 0, 0).timestamp()"
   ]
  },
  {
   "cell_type": "code",
   "execution_count": 16,
   "id": "permanent-dodge",
   "metadata": {},
   "outputs": [
    {
     "data": {
      "text/plain": [
       "120.0"
      ]
     },
     "execution_count": 16,
     "metadata": {},
     "output_type": "execute_result"
    }
   ],
   "source": [
    "7200/60"
   ]
  },
  {
   "cell_type": "code",
   "execution_count": 17,
   "id": "governmental-looking",
   "metadata": {},
   "outputs": [],
   "source": [
    "from datetime import datetime, timedelta"
   ]
  },
  {
   "cell_type": "code",
   "execution_count": 20,
   "id": "killing-stranger",
   "metadata": {},
   "outputs": [],
   "source": [
    "date_string_new = '05.05.2019 21:00'"
   ]
  },
  {
   "cell_type": "code",
   "execution_count": 23,
   "id": "direct-darkness",
   "metadata": {},
   "outputs": [
    {
     "data": {
      "text/plain": [
       "datetime.datetime(2019, 5, 5, 21, 0)"
      ]
     },
     "execution_count": 23,
     "metadata": {},
     "output_type": "execute_result"
    }
   ],
   "source": [
    "dt = datetime.strptime(date_string_new, '%d.%m.%Y %H:%M')\n",
    "dt"
   ]
  },
  {
   "cell_type": "code",
   "execution_count": 24,
   "id": "artificial-headquarters",
   "metadata": {
    "scrolled": true
   },
   "outputs": [
    {
     "data": {
      "text/plain": [
       "5"
      ]
     },
     "execution_count": 24,
     "metadata": {},
     "output_type": "execute_result"
    }
   ],
   "source": [
    "dt.month"
   ]
  },
  {
   "cell_type": "code",
   "execution_count": 28,
   "id": "coordinate-hartford",
   "metadata": {},
   "outputs": [
    {
     "data": {
      "text/plain": [
       "datetime.datetime(1990, 10, 20, 15, 30)"
      ]
     },
     "execution_count": 28,
     "metadata": {},
     "output_type": "execute_result"
    }
   ],
   "source": [
    "date = '1990-10-20 15:30'\n",
    "my_birthday = datetime.strptime(date, '%Y-%m-%d %H:%M')\n",
    "my_birthday"
   ]
  },
  {
   "cell_type": "code",
   "execution_count": 29,
   "id": "destroyed-eligibility",
   "metadata": {},
   "outputs": [
    {
     "data": {
      "text/plain": [
       "'1990-10-20'"
      ]
     },
     "execution_count": 29,
     "metadata": {},
     "output_type": "execute_result"
    }
   ],
   "source": [
    "# OR \n",
    "dt = datetime(1990, 10, 20, 15, 30)\n",
    "dt.strftime('%Y-%m-%d')"
   ]
  },
  {
   "cell_type": "code",
   "execution_count": 30,
   "id": "legitimate-parking",
   "metadata": {},
   "outputs": [
    {
     "data": {
      "text/plain": [
       "'2019-04-01'"
      ]
     },
     "execution_count": 30,
     "metadata": {},
     "output_type": "execute_result"
    }
   ],
   "source": [
    "dt = datetime(2019, 4, 1, 18, 59, 44)\n",
    "dt.strftime('%Y-%m-%d')"
   ]
  },
  {
   "cell_type": "code",
   "execution_count": 34,
   "id": "democratic-basic",
   "metadata": {},
   "outputs": [
    {
     "data": {
      "text/plain": [
       "datetime.datetime(2019, 7, 7, 18, 59, 33)"
      ]
     },
     "execution_count": 34,
     "metadata": {},
     "output_type": "execute_result"
    }
   ],
   "source": [
    "from datetime import datetime\n",
    "date_string = '2019-07-07T18:59:33'\n",
    "date_format = datetime.strptime(date_string, '%Y-%m-%dT%H:%M:%S')#.strftime('%d.%m.%Y')\n",
    "date_format"
   ]
  },
  {
   "cell_type": "code",
   "execution_count": 58,
   "id": "isolated-violence",
   "metadata": {},
   "outputs": [
    {
     "data": {
      "text/plain": [
       "[datetime.datetime(2019, 7, 7, 18, 59, 6),\n",
       " datetime.datetime(2019, 7, 7, 19, 0, 2),\n",
       " datetime.datetime(2019, 7, 7, 19, 1, 4)]"
      ]
     },
     "execution_count": 58,
     "metadata": {},
     "output_type": "execute_result"
    }
   ],
   "source": [
    "dt_list = ['2019-07-07T18:59:06', '2019-07-07T19:00:02', '2019-07-07T19:01:04']\n",
    "date_string_list = '%Y-%m-%dT%H:%M:%S'\n",
    "datetime_list = [datetime.strptime(date, date_string_list) for date in dt_list]\n",
    "datetime_list"
   ]
  },
  {
   "cell_type": "code",
   "execution_count": 51,
   "id": "norwegian-biodiversity",
   "metadata": {},
   "outputs": [],
   "source": [
    "first_start_time = datetime(2019, 7, 7, 18, 59, 0)\n",
    "report_seconds = []\n",
    "for i, date in enumerate(datetime_list):\n",
    "    value = date - (first_start_time + timedelta(minutes=i))\n",
    "    report_seconds.append(value.seconds)"
   ]
  },
  {
   "cell_type": "code",
   "execution_count": 63,
   "id": "smooth-smooth",
   "metadata": {},
   "outputs": [
    {
     "data": {
      "text/plain": [
       "[6, 2, 4]"
      ]
     },
     "execution_count": 63,
     "metadata": {},
     "output_type": "execute_result"
    }
   ],
   "source": [
    "# OR\n",
    "report_seconds = []\n",
    "for current_date in datetime_list:\n",
    "    report_seconds.append(current_date.second)\n",
    "report_seconds"
   ]
  },
  {
   "cell_type": "code",
   "execution_count": null,
   "id": "verbal-section",
   "metadata": {},
   "outputs": [],
   "source": []
  },
  {
   "cell_type": "code",
   "execution_count": null,
   "id": "uniform-affairs",
   "metadata": {},
   "outputs": [],
   "source": []
  },
  {
   "cell_type": "code",
   "execution_count": null,
   "id": "subsequent-findings",
   "metadata": {},
   "outputs": [],
   "source": []
  },
  {
   "cell_type": "code",
   "execution_count": null,
   "id": "japanese-dubai",
   "metadata": {},
   "outputs": [],
   "source": []
  },
  {
   "cell_type": "code",
   "execution_count": null,
   "id": "empty-friendship",
   "metadata": {},
   "outputs": [],
   "source": []
  },
  {
   "cell_type": "code",
   "execution_count": null,
   "id": "personal-healing",
   "metadata": {},
   "outputs": [],
   "source": []
  },
  {
   "cell_type": "code",
   "execution_count": null,
   "id": "organic-retreat",
   "metadata": {},
   "outputs": [],
   "source": []
  },
  {
   "cell_type": "code",
   "execution_count": null,
   "id": "bound-panic",
   "metadata": {},
   "outputs": [],
   "source": []
  },
  {
   "cell_type": "code",
   "execution_count": null,
   "id": "metallic-plasma",
   "metadata": {},
   "outputs": [],
   "source": []
  }
 ],
 "metadata": {
  "kernelspec": {
   "display_name": "Python 3",
   "language": "python",
   "name": "python3"
  },
  "language_info": {
   "codemirror_mode": {
    "name": "ipython",
    "version": 3
   },
   "file_extension": ".py",
   "mimetype": "text/x-python",
   "name": "python",
   "nbconvert_exporter": "python",
   "pygments_lexer": "ipython3",
   "version": "3.8.5"
  }
 },
 "nbformat": 4,
 "nbformat_minor": 5
}
