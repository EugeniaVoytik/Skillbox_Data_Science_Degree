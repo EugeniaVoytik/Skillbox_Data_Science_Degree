{
 "cells": [
  {
   "cell_type": "markdown",
   "metadata": {},
   "source": [
    "![](https://www.pata.org/wp-content/uploads/2014/09/TripAdvisor_Logo-300x119.png)\n",
    "# Predict TripAdvisor Rating\n",
    "## В этом соревновании нам предстоит предсказать рейтинг ресторана в TripAdvisor\n",
    "**По ходу задачи:**\n",
    "* Прокачаем работу с pandas\n",
    "* Научимся работать с Kaggle Notebooks\n",
    "* Поймем как делать предобработку различных данных\n",
    "* Научимся работать с пропущенными данными (Nan)\n",
    "* Познакомимся с различными видами кодирования признаков\n",
    "* Немного попробуем [Feature Engineering](https://ru.wikipedia.org/wiki/Конструирование_признаков) (генерировать новые признаки)\n",
    "* И совсем немного затронем ML\n",
    "* И многое другое...   \n",
    "\n",
    "\n",
    "\n",
    "### И самое важное, все это вы сможете сделать самостоятельно!\n",
    "\n",
    "*Этот Ноутбук являетсся Примером/Шаблоном к этому соревнованию (Baseline) и не служит готовым решением!*   \n",
    "Вы можете использовать его как основу для построения своего решения.\n",
    "\n",
    "> что такое baseline решение, зачем оно нужно и почему предоставлять baseline к соревнованию стало важным стандартом на kaggle и других площадках.   \n",
    "**baseline** создается больше как шаблон, где можно посмотреть как происходит обращение с входящими данными и что нужно получить на выходе. При этом МЛ начинка может быть достаточно простой, просто для примера. Это помогает быстрее приступить к самому МЛ, а не тратить ценное время на чисто инженерные задачи. \n",
    "Также baseline являеться хорошей опорной точкой по метрике. Если твое решение хуже baseline - ты явно делаешь что-то не то и стоит попробовать другой путь) \n",
    "\n",
    "В контексте нашего соревнования baseline идет с небольшими примерами того, что можно делать с данными, и с инструкцией, что делать дальше, чтобы улучшить результат.  Вообще готовым решением это сложно назвать, так как используются всего 2 самых простых признака (а остальные исключаются)."
   ]
  },
  {
   "cell_type": "markdown",
   "metadata": {},
   "source": [
    "# import"
   ]
  },
  {
   "cell_type": "code",
   "execution_count": 8,
   "metadata": {
    "_cell_guid": "b1076dfc-b9ad-4769-8c92-a6c4dae69d19",
    "_uuid": "8f2839f25d086af736a60e9eeb907d3b93b6e0e5",
    "execution": {
     "iopub.execute_input": "2021-05-26T21:23:04.399369Z",
     "iopub.status.busy": "2021-05-26T21:23:04.398924Z",
     "iopub.status.idle": "2021-05-26T21:23:04.420257Z",
     "shell.execute_reply": "2021-05-26T21:23:04.419460Z",
     "shell.execute_reply.started": "2021-05-26T21:23:04.399329Z"
    }
   },
   "outputs": [],
   "source": [
    "# This Python 3 environment comes with many helpful analytics libraries installed\n",
    "# It is defined by the kaggle/python docker image: https://github.com/kaggle/docker-python\n",
    "# For example, here's several helpful packages to load in \n",
    "import re\n",
    "\n",
    "import numpy as np # linear algebra\n",
    "import pandas as pd # data processing, CSV file I/O (e.g. pd.read_csv)\n",
    "\n",
    "import matplotlib.pyplot as plt\n",
    "import seaborn as sns \n",
    "%matplotlib inline\n",
    "sns.set()\n",
    "\n",
    "# Загружаем специальный удобный инструмент для разделения датасета:\n",
    "from sklearn.model_selection import train_test_split\n",
    "\n",
    "# Input data files are available in the \"../input/\" directory.\n",
    "# For example, running this (by clicking run or pressing Shift+Enter) will list all files under the input directory\n",
    "\n",
    "import os\n",
    "\n",
    "# Any results you write to the current directory are saved as output."
   ]
  },
  {
   "cell_type": "code",
   "execution_count": 9,
   "metadata": {
    "execution": {
     "iopub.execute_input": "2021-05-26T21:23:04.421876Z",
     "iopub.status.busy": "2021-05-26T21:23:04.421519Z",
     "iopub.status.idle": "2021-05-26T21:23:04.431148Z",
     "shell.execute_reply": "2021-05-26T21:23:04.430305Z",
     "shell.execute_reply.started": "2021-05-26T21:23:04.421840Z"
    }
   },
   "outputs": [],
   "source": [
    "# всегда фиксируйте RANDOM_SEED, чтобы ваши эксперименты были воспроизводимы!\n",
    "RANDOM_SEED = 42"
   ]
  },
  {
   "cell_type": "markdown",
   "metadata": {},
   "source": [
    "# DATA"
   ]
  },
  {
   "cell_type": "markdown",
   "metadata": {},
   "source": [
    "Загрузим датасеты. Добавим дополнительно\n",
    "* датасет по крупным городам с информацией о численности их населения, является ли город столицей и т.д.,\n",
    "* файл со словами, которые могут быть включены в положительные отзывыю"
   ]
  },
  {
   "cell_type": "code",
   "execution_count": 10,
   "metadata": {
    "_cell_guid": "79c7e3d0-c299-4dcb-8224-4455121ee9b0",
    "_uuid": "d629ff2d2480ee46fbb7e2d37f6b5fab8052498a",
    "execution": {
     "iopub.execute_input": "2021-05-26T21:23:06.903110Z",
     "iopub.status.busy": "2021-05-26T21:23:06.902664Z",
     "iopub.status.idle": "2021-05-26T21:23:07.893296Z",
     "shell.execute_reply": "2021-05-26T21:23:07.892540Z",
     "shell.execute_reply.started": "2021-05-26T21:23:06.903066Z"
    }
   },
   "outputs": [],
   "source": [
    "df_train = pd.read_csv('data/main_task.csv', converters={\"Cuisine Style\": lambda x: x[1:-1].split(',')})\n",
    "df_test = pd.read_csv('data/kaggle_task.csv', converters={\"Cuisine Style\": lambda x: x[1:-1].split(',')})\n",
    "sample_submission = pd.read_csv('data/sample_submission.csv')\n",
    "# additional files\n",
    "cities = pd.read_csv('data/world_cities_dataset.csv')\n",
    "positive_words = []\n",
    "with open('data/positive_words.txt', 'r') as file:\n",
    "    for word in file.readlines():\n",
    "        positive_words.append(word.strip())"
   ]
  },
  {
   "cell_type": "code",
   "execution_count": 11,
   "metadata": {
    "execution": {
     "iopub.execute_input": "2021-05-26T21:23:07.894772Z",
     "iopub.status.busy": "2021-05-26T21:23:07.894398Z",
     "iopub.status.idle": "2021-05-26T21:23:07.930393Z",
     "shell.execute_reply": "2021-05-26T21:23:07.929212Z",
     "shell.execute_reply.started": "2021-05-26T21:23:07.894732Z"
    },
    "scrolled": true
   },
   "outputs": [
    {
     "name": "stdout",
     "output_type": "stream",
     "text": [
      "<class 'pandas.core.frame.DataFrame'>\n",
      "RangeIndex: 40000 entries, 0 to 39999\n",
      "Data columns (total 10 columns):\n",
      " #   Column             Non-Null Count  Dtype  \n",
      "---  ------             --------------  -----  \n",
      " 0   Restaurant_id      40000 non-null  object \n",
      " 1   City               40000 non-null  object \n",
      " 2   Cuisine Style      40000 non-null  object \n",
      " 3   Ranking            40000 non-null  float64\n",
      " 4   Rating             40000 non-null  float64\n",
      " 5   Price Range        26114 non-null  object \n",
      " 6   Number of Reviews  37457 non-null  float64\n",
      " 7   Reviews            40000 non-null  object \n",
      " 8   URL_TA             40000 non-null  object \n",
      " 9   ID_TA              40000 non-null  object \n",
      "dtypes: float64(3), object(7)\n",
      "memory usage: 3.1+ MB\n"
     ]
    }
   ],
   "source": [
    "df_train.info()"
   ]
  },
  {
   "cell_type": "code",
   "execution_count": 12,
   "metadata": {
    "execution": {
     "iopub.execute_input": "2021-05-26T21:23:07.932218Z",
     "iopub.status.busy": "2021-05-26T21:23:07.931937Z",
     "iopub.status.idle": "2021-05-26T21:23:07.957234Z",
     "shell.execute_reply": "2021-05-26T21:23:07.956053Z",
     "shell.execute_reply.started": "2021-05-26T21:23:07.932172Z"
    }
   },
   "outputs": [
    {
     "data": {
      "text/html": [
       "<div>\n",
       "<style scoped>\n",
       "    .dataframe tbody tr th:only-of-type {\n",
       "        vertical-align: middle;\n",
       "    }\n",
       "\n",
       "    .dataframe tbody tr th {\n",
       "        vertical-align: top;\n",
       "    }\n",
       "\n",
       "    .dataframe thead th {\n",
       "        text-align: right;\n",
       "    }\n",
       "</style>\n",
       "<table border=\"1\" class=\"dataframe\">\n",
       "  <thead>\n",
       "    <tr style=\"text-align: right;\">\n",
       "      <th></th>\n",
       "      <th>Restaurant_id</th>\n",
       "      <th>City</th>\n",
       "      <th>Cuisine Style</th>\n",
       "      <th>Ranking</th>\n",
       "      <th>Rating</th>\n",
       "      <th>Price Range</th>\n",
       "      <th>Number of Reviews</th>\n",
       "      <th>Reviews</th>\n",
       "      <th>URL_TA</th>\n",
       "      <th>ID_TA</th>\n",
       "    </tr>\n",
       "  </thead>\n",
       "  <tbody>\n",
       "    <tr>\n",
       "      <th>0</th>\n",
       "      <td>id_5569</td>\n",
       "      <td>Paris</td>\n",
       "      <td>['European',  'French',  'International']</td>\n",
       "      <td>5570.0</td>\n",
       "      <td>3.5</td>\n",
       "      <td>$$ - $$$</td>\n",
       "      <td>194.0</td>\n",
       "      <td>[['Good food at your doorstep', 'A good hotel ...</td>\n",
       "      <td>/Restaurant_Review-g187147-d1912643-Reviews-R_...</td>\n",
       "      <td>d1912643</td>\n",
       "    </tr>\n",
       "    <tr>\n",
       "      <th>1</th>\n",
       "      <td>id_1535</td>\n",
       "      <td>Stockholm</td>\n",
       "      <td>[]</td>\n",
       "      <td>1537.0</td>\n",
       "      <td>4.0</td>\n",
       "      <td>NaN</td>\n",
       "      <td>10.0</td>\n",
       "      <td>[['Unique cuisine', 'Delicious Nepalese food']...</td>\n",
       "      <td>/Restaurant_Review-g189852-d7992032-Reviews-Bu...</td>\n",
       "      <td>d7992032</td>\n",
       "    </tr>\n",
       "    <tr>\n",
       "      <th>2</th>\n",
       "      <td>id_352</td>\n",
       "      <td>London</td>\n",
       "      <td>['Japanese',  'Sushi',  'Asian',  'Grill',  'V...</td>\n",
       "      <td>353.0</td>\n",
       "      <td>4.5</td>\n",
       "      <td>$$$$</td>\n",
       "      <td>688.0</td>\n",
       "      <td>[['Catch up with friends', 'Not exceptional'],...</td>\n",
       "      <td>/Restaurant_Review-g186338-d8632781-Reviews-RO...</td>\n",
       "      <td>d8632781</td>\n",
       "    </tr>\n",
       "    <tr>\n",
       "      <th>3</th>\n",
       "      <td>id_3456</td>\n",
       "      <td>Berlin</td>\n",
       "      <td>[]</td>\n",
       "      <td>3458.0</td>\n",
       "      <td>5.0</td>\n",
       "      <td>NaN</td>\n",
       "      <td>3.0</td>\n",
       "      <td>[[], []]</td>\n",
       "      <td>/Restaurant_Review-g187323-d1358776-Reviews-Es...</td>\n",
       "      <td>d1358776</td>\n",
       "    </tr>\n",
       "    <tr>\n",
       "      <th>4</th>\n",
       "      <td>id_615</td>\n",
       "      <td>Munich</td>\n",
       "      <td>['German',  'Central European',  'Vegetarian F...</td>\n",
       "      <td>621.0</td>\n",
       "      <td>4.0</td>\n",
       "      <td>$$ - $$$</td>\n",
       "      <td>84.0</td>\n",
       "      <td>[['Best place to try a Bavarian food', 'Nice b...</td>\n",
       "      <td>/Restaurant_Review-g187309-d6864963-Reviews-Au...</td>\n",
       "      <td>d6864963</td>\n",
       "    </tr>\n",
       "  </tbody>\n",
       "</table>\n",
       "</div>"
      ],
      "text/plain": [
       "  Restaurant_id       City                                      Cuisine Style  \\\n",
       "0       id_5569      Paris          ['European',  'French',  'International']   \n",
       "1       id_1535  Stockholm                                                 []   \n",
       "2        id_352     London  ['Japanese',  'Sushi',  'Asian',  'Grill',  'V...   \n",
       "3       id_3456     Berlin                                                 []   \n",
       "4        id_615     Munich  ['German',  'Central European',  'Vegetarian F...   \n",
       "\n",
       "   Ranking  Rating Price Range  Number of Reviews  \\\n",
       "0   5570.0     3.5    $$ - $$$              194.0   \n",
       "1   1537.0     4.0         NaN               10.0   \n",
       "2    353.0     4.5        $$$$              688.0   \n",
       "3   3458.0     5.0         NaN                3.0   \n",
       "4    621.0     4.0    $$ - $$$               84.0   \n",
       "\n",
       "                                             Reviews  \\\n",
       "0  [['Good food at your doorstep', 'A good hotel ...   \n",
       "1  [['Unique cuisine', 'Delicious Nepalese food']...   \n",
       "2  [['Catch up with friends', 'Not exceptional'],...   \n",
       "3                                           [[], []]   \n",
       "4  [['Best place to try a Bavarian food', 'Nice b...   \n",
       "\n",
       "                                              URL_TA     ID_TA  \n",
       "0  /Restaurant_Review-g187147-d1912643-Reviews-R_...  d1912643  \n",
       "1  /Restaurant_Review-g189852-d7992032-Reviews-Bu...  d7992032  \n",
       "2  /Restaurant_Review-g186338-d8632781-Reviews-RO...  d8632781  \n",
       "3  /Restaurant_Review-g187323-d1358776-Reviews-Es...  d1358776  \n",
       "4  /Restaurant_Review-g187309-d6864963-Reviews-Au...  d6864963  "
      ]
     },
     "execution_count": 12,
     "metadata": {},
     "output_type": "execute_result"
    }
   ],
   "source": [
    "df_train.head(5)"
   ]
  },
  {
   "cell_type": "code",
   "execution_count": 13,
   "metadata": {
    "execution": {
     "iopub.execute_input": "2021-05-26T21:23:07.961173Z",
     "iopub.status.busy": "2021-05-26T21:23:07.960859Z",
     "iopub.status.idle": "2021-05-26T21:23:07.979238Z",
     "shell.execute_reply": "2021-05-26T21:23:07.978060Z",
     "shell.execute_reply.started": "2021-05-26T21:23:07.961127Z"
    }
   },
   "outputs": [
    {
     "name": "stdout",
     "output_type": "stream",
     "text": [
      "<class 'pandas.core.frame.DataFrame'>\n",
      "RangeIndex: 10000 entries, 0 to 9999\n",
      "Data columns (total 9 columns):\n",
      " #   Column             Non-Null Count  Dtype  \n",
      "---  ------             --------------  -----  \n",
      " 0   Restaurant_id      10000 non-null  object \n",
      " 1   City               10000 non-null  object \n",
      " 2   Cuisine Style      10000 non-null  object \n",
      " 3   Ranking            10000 non-null  float64\n",
      " 4   Price Range        6525 non-null   object \n",
      " 5   Number of Reviews  9343 non-null   float64\n",
      " 6   Reviews            9998 non-null   object \n",
      " 7   URL_TA             10000 non-null  object \n",
      " 8   ID_TA              10000 non-null  object \n",
      "dtypes: float64(2), object(7)\n",
      "memory usage: 703.2+ KB\n"
     ]
    }
   ],
   "source": [
    "df_test.info()"
   ]
  },
  {
   "cell_type": "code",
   "execution_count": 14,
   "metadata": {
    "execution": {
     "iopub.execute_input": "2021-05-26T21:23:07.984179Z",
     "iopub.status.busy": "2021-05-26T21:23:07.983795Z",
     "iopub.status.idle": "2021-05-26T21:23:08.003088Z",
     "shell.execute_reply": "2021-05-26T21:23:08.001897Z",
     "shell.execute_reply.started": "2021-05-26T21:23:07.984126Z"
    }
   },
   "outputs": [
    {
     "data": {
      "text/html": [
       "<div>\n",
       "<style scoped>\n",
       "    .dataframe tbody tr th:only-of-type {\n",
       "        vertical-align: middle;\n",
       "    }\n",
       "\n",
       "    .dataframe tbody tr th {\n",
       "        vertical-align: top;\n",
       "    }\n",
       "\n",
       "    .dataframe thead th {\n",
       "        text-align: right;\n",
       "    }\n",
       "</style>\n",
       "<table border=\"1\" class=\"dataframe\">\n",
       "  <thead>\n",
       "    <tr style=\"text-align: right;\">\n",
       "      <th></th>\n",
       "      <th>Restaurant_id</th>\n",
       "      <th>City</th>\n",
       "      <th>Cuisine Style</th>\n",
       "      <th>Ranking</th>\n",
       "      <th>Price Range</th>\n",
       "      <th>Number of Reviews</th>\n",
       "      <th>Reviews</th>\n",
       "      <th>URL_TA</th>\n",
       "      <th>ID_TA</th>\n",
       "    </tr>\n",
       "  </thead>\n",
       "  <tbody>\n",
       "    <tr>\n",
       "      <th>0</th>\n",
       "      <td>id_0</td>\n",
       "      <td>Paris</td>\n",
       "      <td>['Bar',  'Pub']</td>\n",
       "      <td>12963.0</td>\n",
       "      <td>$$ - $$$</td>\n",
       "      <td>4.0</td>\n",
       "      <td>[[], []]</td>\n",
       "      <td>/Restaurant_Review-g187147-d10746918-Reviews-L...</td>\n",
       "      <td>d10746918</td>\n",
       "    </tr>\n",
       "    <tr>\n",
       "      <th>1</th>\n",
       "      <td>id_1</td>\n",
       "      <td>Helsinki</td>\n",
       "      <td>['European',  'Scandinavian',  'Gluten Free Op...</td>\n",
       "      <td>106.0</td>\n",
       "      <td>$$ - $$$</td>\n",
       "      <td>97.0</td>\n",
       "      <td>[['Very good reviews!', 'Fine dining in Hakani...</td>\n",
       "      <td>/Restaurant_Review-g189934-d6674944-Reviews-Ra...</td>\n",
       "      <td>d6674944</td>\n",
       "    </tr>\n",
       "    <tr>\n",
       "      <th>2</th>\n",
       "      <td>id_2</td>\n",
       "      <td>Edinburgh</td>\n",
       "      <td>['Vegetarian Friendly']</td>\n",
       "      <td>810.0</td>\n",
       "      <td>$$ - $$$</td>\n",
       "      <td>28.0</td>\n",
       "      <td>[['Better than the Links', 'Ivy Black'], ['12/...</td>\n",
       "      <td>/Restaurant_Review-g186525-d13129638-Reviews-B...</td>\n",
       "      <td>d13129638</td>\n",
       "    </tr>\n",
       "    <tr>\n",
       "      <th>3</th>\n",
       "      <td>id_3</td>\n",
       "      <td>London</td>\n",
       "      <td>['Italian',  'Mediterranean',  'European',  'V...</td>\n",
       "      <td>1669.0</td>\n",
       "      <td>$$$$</td>\n",
       "      <td>202.0</td>\n",
       "      <td>[['Most exquisite', 'Delicious and authentic']...</td>\n",
       "      <td>/Restaurant_Review-g186338-d680417-Reviews-Qui...</td>\n",
       "      <td>d680417</td>\n",
       "    </tr>\n",
       "    <tr>\n",
       "      <th>4</th>\n",
       "      <td>id_4</td>\n",
       "      <td>Bratislava</td>\n",
       "      <td>['Italian',  'Mediterranean',  'European',  'S...</td>\n",
       "      <td>37.0</td>\n",
       "      <td>$$$$</td>\n",
       "      <td>162.0</td>\n",
       "      <td>[['Always the best in bratislava', 'Very good ...</td>\n",
       "      <td>/Restaurant_Review-g274924-d1112354-Reviews-Ma...</td>\n",
       "      <td>d1112354</td>\n",
       "    </tr>\n",
       "  </tbody>\n",
       "</table>\n",
       "</div>"
      ],
      "text/plain": [
       "  Restaurant_id        City  \\\n",
       "0          id_0       Paris   \n",
       "1          id_1    Helsinki   \n",
       "2          id_2   Edinburgh   \n",
       "3          id_3      London   \n",
       "4          id_4  Bratislava   \n",
       "\n",
       "                                       Cuisine Style  Ranking Price Range  \\\n",
       "0                                    ['Bar',  'Pub']  12963.0    $$ - $$$   \n",
       "1  ['European',  'Scandinavian',  'Gluten Free Op...    106.0    $$ - $$$   \n",
       "2                            ['Vegetarian Friendly']    810.0    $$ - $$$   \n",
       "3  ['Italian',  'Mediterranean',  'European',  'V...   1669.0        $$$$   \n",
       "4  ['Italian',  'Mediterranean',  'European',  'S...     37.0        $$$$   \n",
       "\n",
       "   Number of Reviews                                            Reviews  \\\n",
       "0                4.0                                           [[], []]   \n",
       "1               97.0  [['Very good reviews!', 'Fine dining in Hakani...   \n",
       "2               28.0  [['Better than the Links', 'Ivy Black'], ['12/...   \n",
       "3              202.0  [['Most exquisite', 'Delicious and authentic']...   \n",
       "4              162.0  [['Always the best in bratislava', 'Very good ...   \n",
       "\n",
       "                                              URL_TA      ID_TA  \n",
       "0  /Restaurant_Review-g187147-d10746918-Reviews-L...  d10746918  \n",
       "1  /Restaurant_Review-g189934-d6674944-Reviews-Ra...   d6674944  \n",
       "2  /Restaurant_Review-g186525-d13129638-Reviews-B...  d13129638  \n",
       "3  /Restaurant_Review-g186338-d680417-Reviews-Qui...    d680417  \n",
       "4  /Restaurant_Review-g274924-d1112354-Reviews-Ma...   d1112354  "
      ]
     },
     "execution_count": 14,
     "metadata": {},
     "output_type": "execute_result"
    }
   ],
   "source": [
    "df_test.head(5)"
   ]
  },
  {
   "cell_type": "code",
   "execution_count": 15,
   "metadata": {
    "execution": {
     "iopub.execute_input": "2021-05-26T21:23:08.005692Z",
     "iopub.status.busy": "2021-05-26T21:23:08.005268Z",
     "iopub.status.idle": "2021-05-26T21:23:08.028088Z",
     "shell.execute_reply": "2021-05-26T21:23:08.027074Z",
     "shell.execute_reply.started": "2021-05-26T21:23:08.005620Z"
    }
   },
   "outputs": [
    {
     "data": {
      "text/html": [
       "<div>\n",
       "<style scoped>\n",
       "    .dataframe tbody tr th:only-of-type {\n",
       "        vertical-align: middle;\n",
       "    }\n",
       "\n",
       "    .dataframe tbody tr th {\n",
       "        vertical-align: top;\n",
       "    }\n",
       "\n",
       "    .dataframe thead th {\n",
       "        text-align: right;\n",
       "    }\n",
       "</style>\n",
       "<table border=\"1\" class=\"dataframe\">\n",
       "  <thead>\n",
       "    <tr style=\"text-align: right;\">\n",
       "      <th></th>\n",
       "      <th>Restaurant_id</th>\n",
       "      <th>Rating</th>\n",
       "    </tr>\n",
       "  </thead>\n",
       "  <tbody>\n",
       "    <tr>\n",
       "      <th>0</th>\n",
       "      <td>id_0</td>\n",
       "      <td>2.0</td>\n",
       "    </tr>\n",
       "    <tr>\n",
       "      <th>1</th>\n",
       "      <td>id_1</td>\n",
       "      <td>2.5</td>\n",
       "    </tr>\n",
       "    <tr>\n",
       "      <th>2</th>\n",
       "      <td>id_2</td>\n",
       "      <td>4.0</td>\n",
       "    </tr>\n",
       "    <tr>\n",
       "      <th>3</th>\n",
       "      <td>id_3</td>\n",
       "      <td>1.0</td>\n",
       "    </tr>\n",
       "    <tr>\n",
       "      <th>4</th>\n",
       "      <td>id_4</td>\n",
       "      <td>4.0</td>\n",
       "    </tr>\n",
       "  </tbody>\n",
       "</table>\n",
       "</div>"
      ],
      "text/plain": [
       "  Restaurant_id  Rating\n",
       "0          id_0     2.0\n",
       "1          id_1     2.5\n",
       "2          id_2     4.0\n",
       "3          id_3     1.0\n",
       "4          id_4     4.0"
      ]
     },
     "execution_count": 15,
     "metadata": {},
     "output_type": "execute_result"
    }
   ],
   "source": [
    "sample_submission.head(5)"
   ]
  },
  {
   "cell_type": "code",
   "execution_count": 16,
   "metadata": {
    "execution": {
     "iopub.execute_input": "2021-05-26T21:23:08.030394Z",
     "iopub.status.busy": "2021-05-26T21:23:08.030018Z",
     "iopub.status.idle": "2021-05-26T21:23:08.041359Z",
     "shell.execute_reply": "2021-05-26T21:23:08.040244Z",
     "shell.execute_reply.started": "2021-05-26T21:23:08.030325Z"
    }
   },
   "outputs": [
    {
     "name": "stdout",
     "output_type": "stream",
     "text": [
      "<class 'pandas.core.frame.DataFrame'>\n",
      "RangeIndex: 10000 entries, 0 to 9999\n",
      "Data columns (total 2 columns):\n",
      " #   Column         Non-Null Count  Dtype  \n",
      "---  ------         --------------  -----  \n",
      " 0   Restaurant_id  10000 non-null  object \n",
      " 1   Rating         10000 non-null  float64\n",
      "dtypes: float64(1), object(1)\n",
      "memory usage: 156.4+ KB\n"
     ]
    }
   ],
   "source": [
    "sample_submission.info()"
   ]
  },
  {
   "cell_type": "code",
   "execution_count": 17,
   "metadata": {
    "execution": {
     "iopub.execute_input": "2021-05-26T21:23:08.043161Z",
     "iopub.status.busy": "2021-05-26T21:23:08.042847Z",
     "iopub.status.idle": "2021-05-26T21:23:08.097788Z",
     "shell.execute_reply": "2021-05-26T21:23:08.096952Z",
     "shell.execute_reply.started": "2021-05-26T21:23:08.043114Z"
    }
   },
   "outputs": [],
   "source": [
    "# ВАЖНО! дря корректной обработки признаков объединяем трейн и тест в один датасет\n",
    "df_train['sample'] = 1 # помечаем где у нас трейн\n",
    "df_test['sample'] = 0 # помечаем где у нас тест\n",
    "df_test['Rating'] = 0 # в тесте у нас нет значения Rating, мы его должны предсказать, по этому пока просто заполняем нулями\n",
    "\n",
    "data = df_test.append(df_train, sort=False).reset_index(drop=True) # объединяем"
   ]
  },
  {
   "cell_type": "code",
   "execution_count": 18,
   "metadata": {
    "execution": {
     "iopub.execute_input": "2021-05-26T21:23:08.099720Z",
     "iopub.status.busy": "2021-05-26T21:23:08.099419Z",
     "iopub.status.idle": "2021-05-26T21:23:08.142597Z",
     "shell.execute_reply": "2021-05-26T21:23:08.141680Z",
     "shell.execute_reply.started": "2021-05-26T21:23:08.099666Z"
    }
   },
   "outputs": [
    {
     "name": "stdout",
     "output_type": "stream",
     "text": [
      "<class 'pandas.core.frame.DataFrame'>\n",
      "RangeIndex: 50000 entries, 0 to 49999\n",
      "Data columns (total 11 columns):\n",
      " #   Column             Non-Null Count  Dtype  \n",
      "---  ------             --------------  -----  \n",
      " 0   Restaurant_id      50000 non-null  object \n",
      " 1   City               50000 non-null  object \n",
      " 2   Cuisine Style      50000 non-null  object \n",
      " 3   Ranking            50000 non-null  float64\n",
      " 4   Price Range        32639 non-null  object \n",
      " 5   Number of Reviews  46800 non-null  float64\n",
      " 6   Reviews            49998 non-null  object \n",
      " 7   URL_TA             50000 non-null  object \n",
      " 8   ID_TA              50000 non-null  object \n",
      " 9   sample             50000 non-null  int64  \n",
      " 10  Rating             50000 non-null  float64\n",
      "dtypes: float64(3), int64(1), object(7)\n",
      "memory usage: 4.2+ MB\n"
     ]
    }
   ],
   "source": [
    "data.info()"
   ]
  },
  {
   "cell_type": "markdown",
   "metadata": {},
   "source": [
    "Подробнее по признакам:\n",
    "* City: Город \n",
    "* Cuisine Style: Кухня\n",
    "* Ranking: Ранг ресторана относительно других ресторанов в этом городе\n",
    "* Price Range: Цены в ресторане в 3 категориях\n",
    "* Number of Reviews: Количество отзывов\n",
    "* Reviews: 2 последних отзыва и даты этих отзывов\n",
    "* URL_TA: страница ресторана на 'www.tripadvisor.com' \n",
    "* ID_TA: ID ресторана в TripAdvisor\n",
    "* Rating: Рейтинг ресторана"
   ]
  },
  {
   "cell_type": "code",
   "execution_count": 19,
   "metadata": {
    "execution": {
     "iopub.execute_input": "2021-05-26T21:23:08.143943Z",
     "iopub.status.busy": "2021-05-26T21:23:08.143670Z",
     "iopub.status.idle": "2021-05-26T21:23:08.169753Z",
     "shell.execute_reply": "2021-05-26T21:23:08.168919Z",
     "shell.execute_reply.started": "2021-05-26T21:23:08.143892Z"
    }
   },
   "outputs": [
    {
     "data": {
      "text/html": [
       "<div>\n",
       "<style scoped>\n",
       "    .dataframe tbody tr th:only-of-type {\n",
       "        vertical-align: middle;\n",
       "    }\n",
       "\n",
       "    .dataframe tbody tr th {\n",
       "        vertical-align: top;\n",
       "    }\n",
       "\n",
       "    .dataframe thead th {\n",
       "        text-align: right;\n",
       "    }\n",
       "</style>\n",
       "<table border=\"1\" class=\"dataframe\">\n",
       "  <thead>\n",
       "    <tr style=\"text-align: right;\">\n",
       "      <th></th>\n",
       "      <th>Restaurant_id</th>\n",
       "      <th>City</th>\n",
       "      <th>Cuisine Style</th>\n",
       "      <th>Ranking</th>\n",
       "      <th>Price Range</th>\n",
       "      <th>Number of Reviews</th>\n",
       "      <th>Reviews</th>\n",
       "      <th>URL_TA</th>\n",
       "      <th>ID_TA</th>\n",
       "      <th>sample</th>\n",
       "      <th>Rating</th>\n",
       "    </tr>\n",
       "  </thead>\n",
       "  <tbody>\n",
       "    <tr>\n",
       "      <th>34963</th>\n",
       "      <td>id_3074</td>\n",
       "      <td>Prague</td>\n",
       "      <td>['Chinese']</td>\n",
       "      <td>3081.0</td>\n",
       "      <td>NaN</td>\n",
       "      <td>4.0</td>\n",
       "      <td>[['This is more a take away with tables than.....</td>\n",
       "      <td>/Restaurant_Review-g274707-d7099676-Reviews-Di...</td>\n",
       "      <td>d7099676</td>\n",
       "      <td>1</td>\n",
       "      <td>4.0</td>\n",
       "    </tr>\n",
       "    <tr>\n",
       "      <th>1493</th>\n",
       "      <td>id_1493</td>\n",
       "      <td>Rome</td>\n",
       "      <td>['Steakhouse',  'Mediterranean',  'Italian',  ...</td>\n",
       "      <td>188.0</td>\n",
       "      <td>$$ - $$$</td>\n",
       "      <td>982.0</td>\n",
       "      <td>[['Going Gently into a Good Night', 'Amazing!'...</td>\n",
       "      <td>/Restaurant_Review-g187791-d7097365-Reviews-I_...</td>\n",
       "      <td>d7097365</td>\n",
       "      <td>0</td>\n",
       "      <td>0.0</td>\n",
       "    </tr>\n",
       "    <tr>\n",
       "      <th>35544</th>\n",
       "      <td>id_8866</td>\n",
       "      <td>London</td>\n",
       "      <td>[]</td>\n",
       "      <td>8875.0</td>\n",
       "      <td>NaN</td>\n",
       "      <td>2.0</td>\n",
       "      <td>[['Proper porridge, great cakes', 'Excellent, ...</td>\n",
       "      <td>/Restaurant_Review-g186338-d8743387-Reviews-Ho...</td>\n",
       "      <td>d8743387</td>\n",
       "      <td>1</td>\n",
       "      <td>5.0</td>\n",
       "    </tr>\n",
       "    <tr>\n",
       "      <th>1303</th>\n",
       "      <td>id_1303</td>\n",
       "      <td>Munich</td>\n",
       "      <td>['Italian',  'Pizza',  'Mediterranean',  'Euro...</td>\n",
       "      <td>611.0</td>\n",
       "      <td>$</td>\n",
       "      <td>179.0</td>\n",
       "      <td>[['Good value', 'Good food'], ['04/08/2017', '...</td>\n",
       "      <td>/Restaurant_Review-g187309-d2189257-Reviews-Pi...</td>\n",
       "      <td>d2189257</td>\n",
       "      <td>0</td>\n",
       "      <td>0.0</td>\n",
       "    </tr>\n",
       "    <tr>\n",
       "      <th>38919</th>\n",
       "      <td>id_777</td>\n",
       "      <td>Lyon</td>\n",
       "      <td>['French']</td>\n",
       "      <td>778.0</td>\n",
       "      <td>$$ - $$$</td>\n",
       "      <td>32.0</td>\n",
       "      <td>[['Tasty food and nice stuff'], ['09/14/2016']]</td>\n",
       "      <td>/Restaurant_Review-g187265-d7613240-Reviews-Le...</td>\n",
       "      <td>d7613240</td>\n",
       "      <td>1</td>\n",
       "      <td>4.5</td>\n",
       "    </tr>\n",
       "  </tbody>\n",
       "</table>\n",
       "</div>"
      ],
      "text/plain": [
       "      Restaurant_id    City  \\\n",
       "34963       id_3074  Prague   \n",
       "1493        id_1493    Rome   \n",
       "35544       id_8866  London   \n",
       "1303        id_1303  Munich   \n",
       "38919        id_777    Lyon   \n",
       "\n",
       "                                           Cuisine Style  Ranking Price Range  \\\n",
       "34963                                        ['Chinese']   3081.0         NaN   \n",
       "1493   ['Steakhouse',  'Mediterranean',  'Italian',  ...    188.0    $$ - $$$   \n",
       "35544                                                 []   8875.0         NaN   \n",
       "1303   ['Italian',  'Pizza',  'Mediterranean',  'Euro...    611.0           $   \n",
       "38919                                         ['French']    778.0    $$ - $$$   \n",
       "\n",
       "       Number of Reviews                                            Reviews  \\\n",
       "34963                4.0  [['This is more a take away with tables than.....   \n",
       "1493               982.0  [['Going Gently into a Good Night', 'Amazing!'...   \n",
       "35544                2.0  [['Proper porridge, great cakes', 'Excellent, ...   \n",
       "1303               179.0  [['Good value', 'Good food'], ['04/08/2017', '...   \n",
       "38919               32.0    [['Tasty food and nice stuff'], ['09/14/2016']]   \n",
       "\n",
       "                                                  URL_TA     ID_TA  sample  \\\n",
       "34963  /Restaurant_Review-g274707-d7099676-Reviews-Di...  d7099676       1   \n",
       "1493   /Restaurant_Review-g187791-d7097365-Reviews-I_...  d7097365       0   \n",
       "35544  /Restaurant_Review-g186338-d8743387-Reviews-Ho...  d8743387       1   \n",
       "1303   /Restaurant_Review-g187309-d2189257-Reviews-Pi...  d2189257       0   \n",
       "38919  /Restaurant_Review-g187265-d7613240-Reviews-Le...  d7613240       1   \n",
       "\n",
       "       Rating  \n",
       "34963     4.0  \n",
       "1493      0.0  \n",
       "35544     5.0  \n",
       "1303      0.0  \n",
       "38919     4.5  "
      ]
     },
     "execution_count": 19,
     "metadata": {},
     "output_type": "execute_result"
    }
   ],
   "source": [
    "data.sample(5)"
   ]
  },
  {
   "cell_type": "code",
   "execution_count": 20,
   "metadata": {
    "execution": {
     "iopub.execute_input": "2021-05-26T21:23:08.172073Z",
     "iopub.status.busy": "2021-05-26T21:23:08.171625Z",
     "iopub.status.idle": "2021-05-26T21:23:08.179802Z",
     "shell.execute_reply": "2021-05-26T21:23:08.178972Z",
     "shell.execute_reply.started": "2021-05-26T21:23:08.171852Z"
    }
   },
   "outputs": [
    {
     "data": {
      "text/plain": [
       "\"[['Very good reviews!', 'Fine dining in Hakaniemi'], ['12/05/2017', '10/29/2017']]\""
      ]
     },
     "execution_count": 20,
     "metadata": {},
     "output_type": "execute_result"
    }
   ],
   "source": [
    "data.Reviews[1]"
   ]
  },
  {
   "cell_type": "markdown",
   "metadata": {},
   "source": [
    "Как видим, большинство признаков у нас требует очистки и предварительной обработки."
   ]
  },
  {
   "cell_type": "markdown",
   "metadata": {},
   "source": [
    "# Cleaning and Prepping Data\n",
    "Обычно данные содержат в себе кучу мусора, который необходимо почистить, для того чтобы привести их в приемлемый формат. Чистка данных — это необходимый этап решения почти любой реальной задачи.   \n",
    "![](https://analyticsindiamag.com/wp-content/uploads/2018/01/data-cleaning.png)"
   ]
  },
  {
   "cell_type": "markdown",
   "metadata": {},
   "source": [
    "# Обработка признаков\n",
    "Пройдемся по всем доступным признакам, проведем предварительную обработку, заполним пропуски и обработаем выбросы, если они есть, и создадим новые признаки на базе имеющихся."
   ]
  },
  {
   "cell_type": "markdown",
   "metadata": {},
   "source": [
    "## Price Range column"
   ]
  },
  {
   "cell_type": "markdown",
   "metadata": {},
   "source": [
    "Заменим строковые значения на числовые от 0 до 2 по возрастанию цены. В таком случае получим категориальные порядковые данные."
   ]
  },
  {
   "cell_type": "code",
   "execution_count": 21,
   "metadata": {
    "execution": {
     "iopub.execute_input": "2021-05-26T21:23:08.181320Z",
     "iopub.status.busy": "2021-05-26T21:23:08.181091Z",
     "iopub.status.idle": "2021-05-26T21:23:08.198308Z",
     "shell.execute_reply": "2021-05-26T21:23:08.197097Z",
     "shell.execute_reply.started": "2021-05-26T21:23:08.181287Z"
    }
   },
   "outputs": [],
   "source": [
    "price_range_conv = {'$': 0, '$$ - $$$': 1, '$$$$': 2}\n",
    "data['Price_Range_Cat'] = data['Price Range'].map(price_range_conv)"
   ]
  },
  {
   "cell_type": "code",
   "execution_count": 22,
   "metadata": {
    "execution": {
     "iopub.execute_input": "2021-05-26T21:23:08.200650Z",
     "iopub.status.busy": "2021-05-26T21:23:08.200034Z",
     "iopub.status.idle": "2021-05-26T21:23:08.443119Z",
     "shell.execute_reply": "2021-05-26T21:23:08.442068Z",
     "shell.execute_reply.started": "2021-05-26T21:23:08.200586Z"
    }
   },
   "outputs": [
    {
     "data": {
      "image/png": "[encoded data removed]",
      "text/plain": [
       "<Figure size 432x288 with 1 Axes>"
      ]
     },
     "metadata": {},
     "output_type": "display_data"
    }
   ],
   "source": [
    "data.Price_Range_Cat.value_counts(dropna=False).sort_index().plot(kind='bar');"
   ]
  },
  {
   "cell_type": "markdown",
   "metadata": {},
   "source": [
    "Глядя на распределение значение по ценовому сегменту ресторана, можно предположить, что создание нового бинарного признака, как среднеценовой ресторан, может улучшить качество модели."
   ]
  },
  {
   "cell_type": "code",
   "execution_count": 23,
   "metadata": {
    "execution": {
     "iopub.execute_input": "2021-05-26T21:23:08.445483Z",
     "iopub.status.busy": "2021-05-26T21:23:08.444868Z",
     "iopub.status.idle": "2021-05-26T21:23:08.513448Z",
     "shell.execute_reply": "2021-05-26T21:23:08.512183Z",
     "shell.execute_reply.started": "2021-05-26T21:23:08.445416Z"
    }
   },
   "outputs": [],
   "source": [
    "data['Middle_Price_Restaurant'] = data['Price_Range_Cat'].apply(lambda x: 1 if x==1 else 0)"
   ]
  },
  {
   "cell_type": "markdown",
   "metadata": {},
   "source": [
    "## City column"
   ]
  },
  {
   "cell_type": "code",
   "execution_count": 24,
   "metadata": {
    "execution": {
     "iopub.execute_input": "2021-05-26T21:23:08.515916Z",
     "iopub.status.busy": "2021-05-26T21:23:08.515280Z",
     "iopub.status.idle": "2021-05-26T21:23:08.525623Z",
     "shell.execute_reply": "2021-05-26T21:23:08.524856Z",
     "shell.execute_reply.started": "2021-05-26T21:23:08.515827Z"
    }
   },
   "outputs": [],
   "source": [
    "def feature_eng_cities(unique_cities):\n",
    "    \"\"\"Для всех городов из входящего массива данных создает и возращает словарь данных, где для каждого города (ключа) содержиться следующая информация: \n",
    "     - страна, \n",
    "     - является ли город столицей, \n",
    "     - является ли город административным центром, \n",
    "     - численность населения города.\"\"\"\n",
    "    cities_dict = {}\n",
    "    for city in unique_cities:\n",
    "        if city == 'Oporto':\n",
    "            city = 'Porto'\n",
    "        data = cities[cities.city_ascii == city].sort_values('population', ascending=False)\n",
    "        if city == 'Porto':\n",
    "            city = 'Oporto'\n",
    "        cities_dict[city] = []\n",
    "        cities_dict[city].append(data.country.values[0])\n",
    "        cities_dict[city].append(1 if data.capital.values[0] == 'primary' else 0)\n",
    "        cities_dict[city].append(1 if data.capital.values[0] == 'admin' else 0)\n",
    "        cities_dict[city].append(data.population.values[0])\n",
    "    return cities_dict"
   ]
  },
  {
   "cell_type": "markdown",
   "metadata": {
    "execution": {
     "iopub.execute_input": "2021-05-26T18:54:31.137490Z",
     "iopub.status.busy": "2021-05-26T18:54:31.137070Z",
     "iopub.status.idle": "2021-05-26T18:54:31.145299Z",
     "shell.execute_reply": "2021-05-26T18:54:31.143668Z",
     "shell.execute_reply.started": "2021-05-26T18:54:31.137404Z"
    }
   },
   "source": [
    "Из стороннего датасета извлекаем дополнительную информацию по каждому городу."
   ]
  },
  {
   "cell_type": "code",
   "execution_count": 25,
   "metadata": {
    "execution": {
     "iopub.execute_input": "2021-05-26T21:23:08.527745Z",
     "iopub.status.busy": "2021-05-26T21:23:08.527165Z",
     "iopub.status.idle": "2021-05-26T21:23:22.277024Z",
     "shell.execute_reply": "2021-05-26T21:23:22.276159Z",
     "shell.execute_reply.started": "2021-05-26T21:23:08.527687Z"
    }
   },
   "outputs": [],
   "source": [
    "cities_dict = feature_eng_cities(data.City.unique().tolist())\n",
    "cities_info = data['City'].map(cities_dict).apply(pd.Series)\n",
    "cities_info.columns = ['Country', 'Capital', 'Admin', 'Population']\n",
    "\n",
    "data = pd.concat([data, cities_info], axis=1)"
   ]
  },
  {
   "cell_type": "code",
   "execution_count": 26,
   "metadata": {
    "execution": {
     "iopub.execute_input": "2021-05-26T21:23:22.279081Z",
     "iopub.status.busy": "2021-05-26T21:23:22.278500Z",
     "iopub.status.idle": "2021-05-26T21:23:22.306957Z",
     "shell.execute_reply": "2021-05-26T21:23:22.305717Z",
     "shell.execute_reply.started": "2021-05-26T21:23:22.279021Z"
    }
   },
   "outputs": [
    {
     "data": {
      "text/html": [
       "<div>\n",
       "<style scoped>\n",
       "    .dataframe tbody tr th:only-of-type {\n",
       "        vertical-align: middle;\n",
       "    }\n",
       "\n",
       "    .dataframe tbody tr th {\n",
       "        vertical-align: top;\n",
       "    }\n",
       "\n",
       "    .dataframe thead th {\n",
       "        text-align: right;\n",
       "    }\n",
       "</style>\n",
       "<table border=\"1\" class=\"dataframe\">\n",
       "  <thead>\n",
       "    <tr style=\"text-align: right;\">\n",
       "      <th></th>\n",
       "      <th>Restaurant_id</th>\n",
       "      <th>City</th>\n",
       "      <th>Cuisine Style</th>\n",
       "      <th>Ranking</th>\n",
       "      <th>Price Range</th>\n",
       "      <th>Number of Reviews</th>\n",
       "      <th>Reviews</th>\n",
       "      <th>URL_TA</th>\n",
       "      <th>ID_TA</th>\n",
       "      <th>sample</th>\n",
       "      <th>Rating</th>\n",
       "      <th>Price_Range_Cat</th>\n",
       "      <th>Middle_Price_Restaurant</th>\n",
       "      <th>Country</th>\n",
       "      <th>Capital</th>\n",
       "      <th>Admin</th>\n",
       "      <th>Population</th>\n",
       "    </tr>\n",
       "  </thead>\n",
       "  <tbody>\n",
       "    <tr>\n",
       "      <th>0</th>\n",
       "      <td>id_0</td>\n",
       "      <td>Paris</td>\n",
       "      <td>['Bar',  'Pub']</td>\n",
       "      <td>12963.0</td>\n",
       "      <td>$$ - $$$</td>\n",
       "      <td>4.0</td>\n",
       "      <td>[[], []]</td>\n",
       "      <td>/Restaurant_Review-g187147-d10746918-Reviews-L...</td>\n",
       "      <td>d10746918</td>\n",
       "      <td>0</td>\n",
       "      <td>0.0</td>\n",
       "      <td>1.0</td>\n",
       "      <td>1</td>\n",
       "      <td>France</td>\n",
       "      <td>1</td>\n",
       "      <td>0</td>\n",
       "      <td>11020000.0</td>\n",
       "    </tr>\n",
       "    <tr>\n",
       "      <th>1</th>\n",
       "      <td>id_1</td>\n",
       "      <td>Helsinki</td>\n",
       "      <td>['European',  'Scandinavian',  'Gluten Free Op...</td>\n",
       "      <td>106.0</td>\n",
       "      <td>$$ - $$$</td>\n",
       "      <td>97.0</td>\n",
       "      <td>[['Very good reviews!', 'Fine dining in Hakani...</td>\n",
       "      <td>/Restaurant_Review-g189934-d6674944-Reviews-Ra...</td>\n",
       "      <td>d6674944</td>\n",
       "      <td>0</td>\n",
       "      <td>0.0</td>\n",
       "      <td>1.0</td>\n",
       "      <td>1</td>\n",
       "      <td>Finland</td>\n",
       "      <td>1</td>\n",
       "      <td>0</td>\n",
       "      <td>642045.0</td>\n",
       "    </tr>\n",
       "    <tr>\n",
       "      <th>2</th>\n",
       "      <td>id_2</td>\n",
       "      <td>Edinburgh</td>\n",
       "      <td>['Vegetarian Friendly']</td>\n",
       "      <td>810.0</td>\n",
       "      <td>$$ - $$$</td>\n",
       "      <td>28.0</td>\n",
       "      <td>[['Better than the Links', 'Ivy Black'], ['12/...</td>\n",
       "      <td>/Restaurant_Review-g186525-d13129638-Reviews-B...</td>\n",
       "      <td>d13129638</td>\n",
       "      <td>0</td>\n",
       "      <td>0.0</td>\n",
       "      <td>1.0</td>\n",
       "      <td>1</td>\n",
       "      <td>United Kingdom</td>\n",
       "      <td>0</td>\n",
       "      <td>0</td>\n",
       "      <td>488050.0</td>\n",
       "    </tr>\n",
       "    <tr>\n",
       "      <th>3</th>\n",
       "      <td>id_3</td>\n",
       "      <td>London</td>\n",
       "      <td>['Italian',  'Mediterranean',  'European',  'V...</td>\n",
       "      <td>1669.0</td>\n",
       "      <td>$$$$</td>\n",
       "      <td>202.0</td>\n",
       "      <td>[['Most exquisite', 'Delicious and authentic']...</td>\n",
       "      <td>/Restaurant_Review-g186338-d680417-Reviews-Qui...</td>\n",
       "      <td>d680417</td>\n",
       "      <td>0</td>\n",
       "      <td>0.0</td>\n",
       "      <td>2.0</td>\n",
       "      <td>0</td>\n",
       "      <td>United Kingdom</td>\n",
       "      <td>1</td>\n",
       "      <td>0</td>\n",
       "      <td>10979000.0</td>\n",
       "    </tr>\n",
       "    <tr>\n",
       "      <th>4</th>\n",
       "      <td>id_4</td>\n",
       "      <td>Bratislava</td>\n",
       "      <td>['Italian',  'Mediterranean',  'European',  'S...</td>\n",
       "      <td>37.0</td>\n",
       "      <td>$$$$</td>\n",
       "      <td>162.0</td>\n",
       "      <td>[['Always the best in bratislava', 'Very good ...</td>\n",
       "      <td>/Restaurant_Review-g274924-d1112354-Reviews-Ma...</td>\n",
       "      <td>d1112354</td>\n",
       "      <td>0</td>\n",
       "      <td>0.0</td>\n",
       "      <td>2.0</td>\n",
       "      <td>0</td>\n",
       "      <td>Slovakia</td>\n",
       "      <td>1</td>\n",
       "      <td>0</td>\n",
       "      <td>429564.0</td>\n",
       "    </tr>\n",
       "  </tbody>\n",
       "</table>\n",
       "</div>"
      ],
      "text/plain": [
       "  Restaurant_id        City  \\\n",
       "0          id_0       Paris   \n",
       "1          id_1    Helsinki   \n",
       "2          id_2   Edinburgh   \n",
       "3          id_3      London   \n",
       "4          id_4  Bratislava   \n",
       "\n",
       "                                       Cuisine Style  Ranking Price Range  \\\n",
       "0                                    ['Bar',  'Pub']  12963.0    $$ - $$$   \n",
       "1  ['European',  'Scandinavian',  'Gluten Free Op...    106.0    $$ - $$$   \n",
       "2                            ['Vegetarian Friendly']    810.0    $$ - $$$   \n",
       "3  ['Italian',  'Mediterranean',  'European',  'V...   1669.0        $$$$   \n",
       "4  ['Italian',  'Mediterranean',  'European',  'S...     37.0        $$$$   \n",
       "\n",
       "   Number of Reviews                                            Reviews  \\\n",
       "0                4.0                                           [[], []]   \n",
       "1               97.0  [['Very good reviews!', 'Fine dining in Hakani...   \n",
       "2               28.0  [['Better than the Links', 'Ivy Black'], ['12/...   \n",
       "3              202.0  [['Most exquisite', 'Delicious and authentic']...   \n",
       "4              162.0  [['Always the best in bratislava', 'Very good ...   \n",
       "\n",
       "                                              URL_TA      ID_TA  sample  \\\n",
       "0  /Restaurant_Review-g187147-d10746918-Reviews-L...  d10746918       0   \n",
       "1  /Restaurant_Review-g189934-d6674944-Reviews-Ra...   d6674944       0   \n",
       "2  /Restaurant_Review-g186525-d13129638-Reviews-B...  d13129638       0   \n",
       "3  /Restaurant_Review-g186338-d680417-Reviews-Qui...    d680417       0   \n",
       "4  /Restaurant_Review-g274924-d1112354-Reviews-Ma...   d1112354       0   \n",
       "\n",
       "   Rating  Price_Range_Cat  Middle_Price_Restaurant         Country  Capital  \\\n",
       "0     0.0              1.0                        1          France        1   \n",
       "1     0.0              1.0                        1         Finland        1   \n",
       "2     0.0              1.0                        1  United Kingdom        0   \n",
       "3     0.0              2.0                        0  United Kingdom        1   \n",
       "4     0.0              2.0                        0        Slovakia        1   \n",
       "\n",
       "   Admin  Population  \n",
       "0      0  11020000.0  \n",
       "1      0    642045.0  \n",
       "2      0    488050.0  \n",
       "3      0  10979000.0  \n",
       "4      0    429564.0  "
      ]
     },
     "execution_count": 26,
     "metadata": {},
     "output_type": "execute_result"
    }
   ],
   "source": [
    "data.head()"
   ]
  },
  {
   "cell_type": "markdown",
   "metadata": {},
   "source": [
    "## Cuisine column"
   ]
  },
  {
   "cell_type": "markdown",
   "metadata": {},
   "source": [
    "Посчитаем, сколько кухонь представлено в каждом ресторане"
   ]
  },
  {
   "cell_type": "code",
   "execution_count": 27,
   "metadata": {
    "execution": {
     "iopub.execute_input": "2021-05-26T21:23:22.308716Z",
     "iopub.status.busy": "2021-05-26T21:23:22.308447Z",
     "iopub.status.idle": "2021-05-26T21:23:22.362179Z",
     "shell.execute_reply": "2021-05-26T21:23:22.361085Z",
     "shell.execute_reply.started": "2021-05-26T21:23:22.308670Z"
    }
   },
   "outputs": [],
   "source": [
    "data['Cuisine_Style_Count'] = data['Cuisine Style'].apply(lambda x: len(x) if not isinstance(x, float) else 1)"
   ]
  },
  {
   "cell_type": "markdown",
   "metadata": {},
   "source": [
    "Создадим dummy переменные для все уникальных кухонь в датасете (не улучшило результат отправки)"
   ]
  },
  {
   "cell_type": "code",
   "execution_count": 28,
   "metadata": {
    "execution": {
     "iopub.execute_input": "2021-05-26T21:23:22.363725Z",
     "iopub.status.busy": "2021-05-26T21:23:22.363492Z",
     "iopub.status.idle": "2021-05-26T21:23:30.494828Z",
     "shell.execute_reply": "2021-05-26T21:23:30.493929Z",
     "shell.execute_reply.started": "2021-05-26T21:23:22.363691Z"
    }
   },
   "outputs": [],
   "source": [
    "# unique_cuisines = [cuisine.replace(\"'\", '').strip() for cuisine in data.explode('Cuisine Style')['Cuisine Style'].unique()]\n",
    "# for unique_cuisine in unique_cuisines:\n",
    "#     data[unique_cuisine] = data['Cuisine Style'].apply(lambda x: 1 if unique_cuisine in x else 0)"
   ]
  },
  {
   "cell_type": "markdown",
   "metadata": {},
   "source": [
    "## Reviews column"
   ]
  },
  {
   "cell_type": "code",
   "execution_count": 29,
   "metadata": {
    "execution": {
     "iopub.execute_input": "2021-05-26T21:23:30.496555Z",
     "iopub.status.busy": "2021-05-26T21:23:30.496328Z",
     "iopub.status.idle": "2021-05-26T21:23:30.508110Z",
     "shell.execute_reply": "2021-05-26T21:23:30.507035Z",
     "shell.execute_reply.started": "2021-05-26T21:23:30.496522Z"
    }
   },
   "outputs": [],
   "source": [
    "def extract_reg(string, reg):\n",
    "    \"Находит заданное регулярное выражение в искомой строке и возвращает все найденные результаты в виде массива.\"\n",
    "    results = re.findall(reg, string)\n",
    "    return results\n",
    "\n",
    "def calculate_dates(dates):\n",
    "    \"Вычисляет число дней между первый и последним оставленным отзывов в ресторане.\"\n",
    "    if dates:\n",
    "        dates_conv = pd.to_datetime(dates).sort_values()\n",
    "        return (dates_conv[-1] - dates_conv[0]).days\n",
    "    else:\n",
    "        return None\n",
    "    \n",
    "def calculate_perc_posit_reviews(reviews):\n",
    "    \"Используя лист слов, несущих позитивный оттенок, вычисляет процент позитивных отзывов для ресторана.\"\n",
    "    if reviews:\n",
    "        count = 0\n",
    "        for rev in reviews:\n",
    "            if any([word in rev.lower() for word in positive_words]):\n",
    "                count += 1\n",
    "        return count / len(reviews)\n",
    "    else:\n",
    "        return None\n",
    "    \n",
    "def is_posit_reviews(reviews):\n",
    "    \"Используя лист слов, несущих позитивный оттенок, определяет есть ли позитивные отзывы у ресторана.\"\n",
    "    if reviews:\n",
    "        count = 0\n",
    "        for rev in reviews:\n",
    "            if any([word in rev.lower() for word in positive_words]):\n",
    "                count += 1\n",
    "        if count > 0:\n",
    "            return 1\n",
    "        else: \n",
    "            return 0\n",
    "    else: \n",
    "        return None"
   ]
  },
  {
   "cell_type": "markdown",
   "metadata": {},
   "source": [
    "Для того, чтобы применить последующий анализ, заменим пустые значения на значение 'Other'."
   ]
  },
  {
   "cell_type": "code",
   "execution_count": 30,
   "metadata": {
    "execution": {
     "iopub.execute_input": "2021-05-26T21:23:30.510100Z",
     "iopub.status.busy": "2021-05-26T21:23:30.509667Z",
     "iopub.status.idle": "2021-05-26T21:23:30.532902Z",
     "shell.execute_reply": "2021-05-26T21:23:30.531862Z",
     "shell.execute_reply.started": "2021-05-26T21:23:30.509902Z"
    }
   },
   "outputs": [],
   "source": [
    "data.Reviews = data.Reviews.fillna('[Other]')"
   ]
  },
  {
   "cell_type": "markdown",
   "metadata": {},
   "source": [
    "Вначале отделим даты всех имеющихся отзывов для всех ресторанов в отдельный столбец, а затем добавим новые признаки по количеству оставленных отзывов и разницей в днях между первым и последним оставленным отзывом для ресторана."
   ]
  },
  {
   "cell_type": "code",
   "execution_count": 31,
   "metadata": {
    "execution": {
     "iopub.execute_input": "2021-05-26T21:23:30.535785Z",
     "iopub.status.busy": "2021-05-26T21:23:30.535402Z",
     "iopub.status.idle": "2021-05-26T21:23:55.124546Z",
     "shell.execute_reply": "2021-05-26T21:23:55.123856Z",
     "shell.execute_reply.started": "2021-05-26T21:23:30.535711Z"
    }
   },
   "outputs": [],
   "source": [
    "data['Reviews_dates'] = data.Reviews.apply(lambda x: extract_reg(x, r'\\d{2}\\/\\d{2}\\/\\d{4}'))\n",
    "data['Reviews_Count'] = data.Reviews_dates.apply(len)\n",
    "data['Reviews_Dates_Max_Diff'] = data.Reviews_dates.apply(calculate_dates)"
   ]
  },
  {
   "cell_type": "markdown",
   "metadata": {},
   "source": [
    "Сохраним текст всех имеющихся отзывов для всех ресторанов в отдельный столбец, а затем добавим новые признаки, включающих процент позитивных отзывов и наличие в целом позитивных отзывов для ресторана."
   ]
  },
  {
   "cell_type": "code",
   "execution_count": 32,
   "metadata": {
    "execution": {
     "iopub.execute_input": "2021-05-26T21:23:55.126388Z",
     "iopub.status.busy": "2021-05-26T21:23:55.125846Z",
     "iopub.status.idle": "2021-05-26T21:23:55.903826Z",
     "shell.execute_reply": "2021-05-26T21:23:55.902846Z",
     "shell.execute_reply.started": "2021-05-26T21:23:55.126333Z"
    }
   },
   "outputs": [],
   "source": [
    "data['Reviews_text'] = data.Reviews.apply(lambda x: extract_reg(x, r\"\\['([\\D]+)'\\]\"))\n",
    "data['Pos_Perc_Reviews'] = data.Reviews_text.apply(calculate_perc_posit_reviews)\n",
    "data['Is_Pos_Reviews'] = data.Reviews_text.apply(is_posit_reviews)"
   ]
  },
  {
   "cell_type": "markdown",
   "metadata": {},
   "source": [
    "Посчитаем количество ресторанов в каждом городе и применим этот признак, чтобы определить относительный рейтинг ресторана в каждом городе."
   ]
  },
  {
   "cell_type": "code",
   "execution_count": 33,
   "metadata": {
    "execution": {
     "iopub.execute_input": "2021-05-26T21:23:55.905565Z",
     "iopub.status.busy": "2021-05-26T21:23:55.905303Z",
     "iopub.status.idle": "2021-05-26T21:23:55.982076Z",
     "shell.execute_reply": "2021-05-26T21:23:55.981033Z",
     "shell.execute_reply.started": "2021-05-26T21:23:55.905521Z"
    }
   },
   "outputs": [],
   "source": [
    "restorants_in_city = dict(data.groupby('City')['Ranking'].count())\n",
    "data['Restaurants_Count'] = data['City'].map(restorants_in_city)\n",
    "data['Ranking_Rel'] = data.Ranking / data.Restaurants_Count"
   ]
  },
  {
   "cell_type": "markdown",
   "metadata": {},
   "source": [
    "Посчитаем количество ресторанов на душу населения в городе."
   ]
  },
  {
   "cell_type": "code",
   "execution_count": 34,
   "metadata": {
    "execution": {
     "iopub.execute_input": "2021-05-26T21:32:23.332582Z",
     "iopub.status.busy": "2021-05-26T21:32:23.332219Z",
     "iopub.status.idle": "2021-05-26T21:32:23.343232Z",
     "shell.execute_reply": "2021-05-26T21:32:23.342082Z",
     "shell.execute_reply.started": "2021-05-26T21:32:23.332521Z"
    }
   },
   "outputs": [],
   "source": [
    "data['Restaurants_Count_per_Person'] = data.Population / data.Restaurants_Count"
   ]
  },
  {
   "cell_type": "markdown",
   "metadata": {},
   "source": [
    "### Найдем в каких столбцах присутствуют пропущенные значения и заменим их на моду для категориальных и на среднее для числовых по каждому городу отдельно."
   ]
  },
  {
   "cell_type": "markdown",
   "metadata": {},
   "source": [
    "Для категориального столбца Price_Range_Cat заменим пропущенные значения на моду по городу."
   ]
  },
  {
   "cell_type": "code",
   "execution_count": 35,
   "metadata": {
    "execution": {
     "iopub.execute_input": "2021-05-26T21:23:55.984150Z",
     "iopub.status.busy": "2021-05-26T21:23:55.983719Z",
     "iopub.status.idle": "2021-05-26T21:23:56.050342Z",
     "shell.execute_reply": "2021-05-26T21:23:56.049355Z",
     "shell.execute_reply.started": "2021-05-26T21:23:55.983984Z"
    }
   },
   "outputs": [],
   "source": [
    "city_range_cat = dict(data.groupby('City').Price_Range_Cat.agg(pd.Series.mode))\n",
    "data.Price_Range_Cat = data.Price_Range_Cat.fillna(data.City.map(city_range_cat))"
   ]
  },
  {
   "cell_type": "markdown",
   "metadata": {
    "execution": {
     "iopub.execute_input": "2021-05-26T21:02:22.123908Z",
     "iopub.status.busy": "2021-05-26T21:02:22.123599Z",
     "iopub.status.idle": "2021-05-26T21:02:22.130795Z",
     "shell.execute_reply": "2021-05-26T21:02:22.129534Z",
     "shell.execute_reply.started": "2021-05-26T21:02:22.123849Z"
    }
   },
   "source": [
    "Для оставшихся числовых столбцов заменим пропущенные значения на среднее значение по городу."
   ]
  },
  {
   "cell_type": "code",
   "execution_count": 36,
   "metadata": {
    "execution": {
     "iopub.execute_input": "2021-05-26T21:23:56.052238Z",
     "iopub.status.busy": "2021-05-26T21:23:56.051949Z",
     "iopub.status.idle": "2021-05-26T21:23:56.111860Z",
     "shell.execute_reply": "2021-05-26T21:23:56.110887Z",
     "shell.execute_reply.started": "2021-05-26T21:23:56.052188Z"
    }
   },
   "outputs": [],
   "source": [
    "def fill_na_mean_for_city(data, col):\n",
    "    dict_cat = dict(round(data.groupby('City')[col].mean(), 0))\n",
    "    return data[col].fillna(data.City.map(dict_cat))\n",
    "\n",
    "data['Number of Reviews'] = fill_na_mean_for_city(data, 'Number of Reviews')\n",
    "data.Reviews_Dates_Max_Diff = fill_na_mean_for_city(data, 'Reviews_Dates_Max_Diff')\n",
    "data.Pos_Perc_Reviews = fill_na_mean_for_city(data, 'Pos_Perc_Reviews')\n",
    "data.Is_Pos_Reviews = fill_na_mean_for_city(data, 'Is_Pos_Reviews')"
   ]
  },
  {
   "cell_type": "markdown",
   "metadata": {},
   "source": [
    "![](https://cs10.pikabu.ru/post_img/2018/09/06/11/1536261023140110012.jpg)"
   ]
  },
  {
   "cell_type": "markdown",
   "metadata": {},
   "source": [
    "Создадим dummy переменные для оставшихся строковых признаков."
   ]
  },
  {
   "cell_type": "code",
   "execution_count": 37,
   "metadata": {
    "execution": {
     "iopub.execute_input": "2021-05-26T21:23:56.113673Z",
     "iopub.status.busy": "2021-05-26T21:23:56.113385Z",
     "iopub.status.idle": "2021-05-26T21:23:56.207680Z",
     "shell.execute_reply": "2021-05-26T21:23:56.206766Z",
     "shell.execute_reply.started": "2021-05-26T21:23:56.113630Z"
    }
   },
   "outputs": [],
   "source": [
    "data = pd.get_dummies(data, columns=['City', 'Country'], drop_first=True)"
   ]
  },
  {
   "cell_type": "markdown",
   "metadata": {},
   "source": [
    "Удалим ненужные признаки или признаки, которые ухудшали модель."
   ]
  },
  {
   "cell_type": "code",
   "execution_count": 38,
   "metadata": {
    "execution": {
     "iopub.execute_input": "2021-05-26T21:23:56.209514Z",
     "iopub.status.busy": "2021-05-26T21:23:56.209264Z",
     "iopub.status.idle": "2021-05-26T21:23:56.299995Z",
     "shell.execute_reply": "2021-05-26T21:23:56.299028Z",
     "shell.execute_reply.started": "2021-05-26T21:23:56.209473Z"
    }
   },
   "outputs": [],
   "source": [
    "data = data.drop(['Cuisine Style', 'Price Range', 'Reviews', 'URL_TA', 'ID_TA', 'Restaurant_id', 'Reviews_dates', 'Reviews_text'], axis=1)"
   ]
  },
  {
   "cell_type": "markdown",
   "metadata": {},
   "source": [
    "# EDA \n",
    "[Exploratory Data Analysis](https://ru.wikipedia.org/wiki/Разведочный_анализ_данных) - Анализ данных\n",
    "На этом этапе мы строим графики, ищем закономерности, аномалии, выбросы или связи между признаками.\n",
    "В общем цель этого этапа понять, что эти данные могут нам дать и как признаки могут быть взаимосвязаны между собой.\n",
    "Понимание изначальных признаков позволит сгенерировать новые, более сильные и, тем самым, сделать нашу модель лучше.\n",
    "![](https://miro.medium.com/max/2598/1*RXdMb7Uk6mGqWqPguHULaQ.png)"
   ]
  },
  {
   "cell_type": "markdown",
   "metadata": {},
   "source": [
    "### Посмотрим распределение ресторанов по городам"
   ]
  },
  {
   "cell_type": "code",
   "execution_count": 39,
   "metadata": {
    "execution": {
     "iopub.execute_input": "2021-05-26T21:23:56.301855Z",
     "iopub.status.busy": "2021-05-26T21:23:56.301388Z",
     "iopub.status.idle": "2021-05-26T21:23:56.755963Z",
     "shell.execute_reply": "2021-05-26T21:23:56.755223Z",
     "shell.execute_reply.started": "2021-05-26T21:23:56.301614Z"
    }
   },
   "outputs": [
    {
     "data": {
      "image/png": "[encoded data removed]",
      "text/plain": [
       "<Figure size 720x504 with 1 Axes>"
      ]
     },
     "metadata": {},
     "output_type": "display_data"
    }
   ],
   "source": [
    "plt.figure(figsize=(10,7))\n",
    "df_train['City'].value_counts(ascending=False).plot(kind='bar');"
   ]
  },
  {
   "cell_type": "code",
   "execution_count": 40,
   "metadata": {
    "execution": {
     "iopub.execute_input": "2021-05-26T21:23:56.757502Z",
     "iopub.status.busy": "2021-05-26T21:23:56.757101Z",
     "iopub.status.idle": "2021-05-26T21:23:57.270260Z",
     "shell.execute_reply": "2021-05-26T21:23:57.269272Z",
     "shell.execute_reply.started": "2021-05-26T21:23:56.757463Z"
    }
   },
   "outputs": [
    {
     "data": {
      "image/png": "[encoded data removed]",
      "text/plain": [
       "<Figure size 720x504 with 1 Axes>"
      ]
     },
     "metadata": {},
     "output_type": "display_data"
    }
   ],
   "source": [
    "plt.figure(figsize=(10,7))\n",
    "df_train[df_train['City'] =='London']['Ranking'].hist(bins=100);"
   ]
  },
  {
   "cell_type": "code",
   "execution_count": 41,
   "metadata": {
    "execution": {
     "iopub.execute_input": "2021-05-26T21:23:57.275569Z",
     "iopub.status.busy": "2021-05-26T21:23:57.275280Z",
     "iopub.status.idle": "2021-05-26T21:23:59.899934Z",
     "shell.execute_reply": "2021-05-26T21:23:59.898729Z",
     "shell.execute_reply.started": "2021-05-26T21:23:57.275513Z"
    }
   },
   "outputs": [
    {
     "data": {
      "image/png": "[encoded data removed]",
      "text/plain": [
       "<Figure size 720x504 with 1 Axes>"
      ]
     },
     "metadata": {},
     "output_type": "display_data"
    }
   ],
   "source": [
    "# посмотрим на топ 10 городов\n",
    "plt.figure(figsize=(10,7))\n",
    "for x in (df_train['City'].value_counts()).index[0:10]:\n",
    "    df_train[df_train['City'] == x]['Ranking'].hist(bins=100)\n",
    "plt.show()"
   ]
  },
  {
   "cell_type": "markdown",
   "metadata": {},
   "source": [
    "Получается, что Ranking имеет нормальное распределение, просто в больших городах больше ресторанов, из-за мы этого имеем смещение."
   ]
  },
  {
   "cell_type": "markdown",
   "metadata": {},
   "source": [
    "### Посмотрим распределение целевой переменной"
   ]
  },
  {
   "cell_type": "code",
   "execution_count": 42,
   "metadata": {
    "execution": {
     "iopub.execute_input": "2021-05-26T21:23:59.901671Z",
     "iopub.status.busy": "2021-05-26T21:23:59.901404Z",
     "iopub.status.idle": "2021-05-26T21:24:00.177617Z",
     "shell.execute_reply": "2021-05-26T21:24:00.176161Z",
     "shell.execute_reply.started": "2021-05-26T21:23:59.901628Z"
    }
   },
   "outputs": [
    {
     "data": {
      "image/png": "[encoded data removed]",
      "text/plain": [
       "<Figure size 720x504 with 1 Axes>"
      ]
     },
     "metadata": {},
     "output_type": "display_data"
    }
   ],
   "source": [
    "plt.figure(figsize=(10,7))\n",
    "df_train['Rating'].value_counts().sort_index().plot(kind='barh');"
   ]
  },
  {
   "cell_type": "markdown",
   "metadata": {},
   "source": [
    "### Посмотрим распределение целевой переменной относительно признака"
   ]
  },
  {
   "cell_type": "code",
   "execution_count": 43,
   "metadata": {
    "execution": {
     "iopub.execute_input": "2021-05-26T21:24:00.180783Z",
     "iopub.status.busy": "2021-05-26T21:24:00.179958Z",
     "iopub.status.idle": "2021-05-26T21:24:00.694605Z",
     "shell.execute_reply": "2021-05-26T21:24:00.693544Z",
     "shell.execute_reply.started": "2021-05-26T21:24:00.180340Z"
    }
   },
   "outputs": [
    {
     "data": {
      "image/png": "[encoded data removed]",
      "text/plain": [
       "<Figure size 720x504 with 1 Axes>"
      ]
     },
     "metadata": {},
     "output_type": "display_data"
    }
   ],
   "source": [
    "plt.figure(figsize=(10,7))\n",
    "df_train[df_train['Rating'] == 5]['Ranking'].hist(bins=100);"
   ]
  },
  {
   "cell_type": "code",
   "execution_count": 44,
   "metadata": {
    "execution": {
     "iopub.execute_input": "2021-05-26T21:24:00.697153Z",
     "iopub.status.busy": "2021-05-26T21:24:00.696424Z",
     "iopub.status.idle": "2021-05-26T21:24:01.202394Z",
     "shell.execute_reply": "2021-05-26T21:24:01.200959Z",
     "shell.execute_reply.started": "2021-05-26T21:24:00.697083Z"
    }
   },
   "outputs": [
    {
     "data": {
      "image/png": "[encoded data removed]",
      "text/plain": [
       "<Figure size 720x504 with 1 Axes>"
      ]
     },
     "metadata": {},
     "output_type": "display_data"
    }
   ],
   "source": [
    "plt.figure(figsize=(10,7))\n",
    "df_train['Ranking'][df_train['Rating'] < 4].hist(bins=100);"
   ]
  },
  {
   "cell_type": "markdown",
   "metadata": {},
   "source": [
    "### И один из моих любимых - [корреляция признаков](https://ru.wikipedia.org/wiki/Корреляция)\n",
    "На этом графике уже сейчас вы сможете заметить, как признаки связаны между собой и с целевой переменной."
   ]
  },
  {
   "cell_type": "code",
   "execution_count": 45,
   "metadata": {
    "execution": {
     "iopub.execute_input": "2021-05-26T21:24:01.204736Z",
     "iopub.status.busy": "2021-05-26T21:24:01.204337Z",
     "iopub.status.idle": "2021-05-26T21:24:06.372475Z",
     "shell.execute_reply": "2021-05-26T21:24:06.371546Z",
     "shell.execute_reply.started": "2021-05-26T21:24:01.204684Z"
    }
   },
   "outputs": [
    {
     "data": {
      "image/png": "[encoded data removed]",
      "text/plain": [
       "<Figure size 1080x720 with 2 Axes>"
      ]
     },
     "metadata": {},
     "output_type": "display_data"
    }
   ],
   "source": [
    "plt.figure(figsize=(15,10))\n",
    "sns.heatmap(data.drop(['sample'], axis=1).corr(), cmap='vlag');"
   ]
  },
  {
   "cell_type": "code",
   "execution_count": 46,
   "metadata": {
    "execution": {
     "iopub.execute_input": "2021-05-26T21:24:06.374732Z",
     "iopub.status.busy": "2021-05-26T21:24:06.374120Z",
     "iopub.status.idle": "2021-05-26T21:24:10.165392Z",
     "shell.execute_reply": "2021-05-26T21:24:10.164433Z",
     "shell.execute_reply.started": "2021-05-26T21:24:06.374671Z"
    }
   },
   "outputs": [
    {
     "data": {
      "text/html": [
       "<div>\n",
       "<style scoped>\n",
       "    .dataframe tbody tr th:only-of-type {\n",
       "        vertical-align: middle;\n",
       "    }\n",
       "\n",
       "    .dataframe tbody tr th {\n",
       "        vertical-align: top;\n",
       "    }\n",
       "\n",
       "    .dataframe thead th {\n",
       "        text-align: right;\n",
       "    }\n",
       "</style>\n",
       "<table border=\"1\" class=\"dataframe\">\n",
       "  <thead>\n",
       "    <tr style=\"text-align: right;\">\n",
       "      <th></th>\n",
       "      <th>Rating</th>\n",
       "    </tr>\n",
       "  </thead>\n",
       "  <tbody>\n",
       "    <tr>\n",
       "      <th>Rating</th>\n",
       "      <td>1.000000</td>\n",
       "    </tr>\n",
       "    <tr>\n",
       "      <th>sample</th>\n",
       "      <td>0.936543</td>\n",
       "    </tr>\n",
       "    <tr>\n",
       "      <th>Pos_Perc_Reviews</th>\n",
       "      <td>0.035189</td>\n",
       "    </tr>\n",
       "    <tr>\n",
       "      <th>Is_Pos_Reviews</th>\n",
       "      <td>0.035189</td>\n",
       "    </tr>\n",
       "    <tr>\n",
       "      <th>Cuisine_Style_Count</th>\n",
       "      <td>0.034506</td>\n",
       "    </tr>\n",
       "    <tr>\n",
       "      <th>...</th>\n",
       "      <td>...</td>\n",
       "    </tr>\n",
       "    <tr>\n",
       "      <th>City_Madrid</th>\n",
       "      <td>-0.016232</td>\n",
       "    </tr>\n",
       "    <tr>\n",
       "      <th>City_Milan</th>\n",
       "      <td>-0.023233</td>\n",
       "    </tr>\n",
       "    <tr>\n",
       "      <th>Reviews_Dates_Max_Diff</th>\n",
       "      <td>-0.029755</td>\n",
       "    </tr>\n",
       "    <tr>\n",
       "      <th>Ranking</th>\n",
       "      <td>-0.109897</td>\n",
       "    </tr>\n",
       "    <tr>\n",
       "      <th>Ranking_Rel</th>\n",
       "      <td>-0.168728</td>\n",
       "    </tr>\n",
       "  </tbody>\n",
       "</table>\n",
       "<p>68 rows × 1 columns</p>\n",
       "</div>"
      ],
      "text/plain": [
       "                          Rating\n",
       "Rating                  1.000000\n",
       "sample                  0.936543\n",
       "Pos_Perc_Reviews        0.035189\n",
       "Is_Pos_Reviews          0.035189\n",
       "Cuisine_Style_Count     0.034506\n",
       "...                          ...\n",
       "City_Madrid            -0.016232\n",
       "City_Milan             -0.023233\n",
       "Reviews_Dates_Max_Diff -0.029755\n",
       "Ranking                -0.109897\n",
       "Ranking_Rel            -0.168728\n",
       "\n",
       "[68 rows x 1 columns]"
      ]
     },
     "execution_count": 46,
     "metadata": {},
     "output_type": "execute_result"
    }
   ],
   "source": [
    "data.corr().Rating.sort_values(ascending=False).to_frame()"
   ]
  },
  {
   "cell_type": "markdown",
   "metadata": {},
   "source": [
    "Мы видим, что не наблюдается высокой положительной и отрицательной корреляции между признаками и с целевой переменной. В этом случае мы можем использовать данные для тренировки модели."
   ]
  },
  {
   "cell_type": "code",
   "execution_count": 47,
   "metadata": {
    "execution": {
     "iopub.execute_input": "2021-05-26T21:24:10.167579Z",
     "iopub.status.busy": "2021-05-26T21:24:10.166976Z",
     "iopub.status.idle": "2021-05-26T21:24:10.740429Z",
     "shell.execute_reply": "2021-05-26T21:24:10.739724Z",
     "shell.execute_reply.started": "2021-05-26T21:24:10.167524Z"
    }
   },
   "outputs": [],
   "source": [
    "# Теперь выделим тестовую часть\n",
    "train_data = data.query('sample == 1').drop(['sample'], axis=1)\n",
    "test_data = data.query('sample == 0').drop(['sample'], axis=1)\n",
    "\n",
    "y = train_data.Rating.values            # наш таргет\n",
    "X = train_data.drop(['Rating'], axis=1)"
   ]
  },
  {
   "cell_type": "markdown",
   "metadata": {},
   "source": [
    "**Перед тем как отправлять наши данные на обучение, разделим данные на еще один тест и трейн, для валидации. \n",
    "Это поможет нам проверить, как хорошо наша модель работает, до отправки submissiona на kaggle.**"
   ]
  },
  {
   "cell_type": "code",
   "execution_count": 48,
   "metadata": {
    "execution": {
     "iopub.execute_input": "2021-05-26T21:24:10.742512Z",
     "iopub.status.busy": "2021-05-26T21:24:10.741986Z",
     "iopub.status.idle": "2021-05-26T21:24:10.795814Z",
     "shell.execute_reply": "2021-05-26T21:24:10.794457Z",
     "shell.execute_reply.started": "2021-05-26T21:24:10.742454Z"
    }
   },
   "outputs": [],
   "source": [
    "# Воспользуемся специальной функцие train_test_split для разбивки тестовых данных\n",
    "# выделим 20% данных на валидацию (параметр test_size)\n",
    "X_train, X_test, y_train, y_test = train_test_split(X, y, test_size=0.2, random_state=RANDOM_SEED)"
   ]
  },
  {
   "cell_type": "code",
   "execution_count": 49,
   "metadata": {
    "execution": {
     "iopub.execute_input": "2021-05-26T21:24:10.797348Z",
     "iopub.status.busy": "2021-05-26T21:24:10.796921Z",
     "iopub.status.idle": "2021-05-26T21:24:10.804953Z",
     "shell.execute_reply": "2021-05-26T21:24:10.803899Z",
     "shell.execute_reply.started": "2021-05-26T21:24:10.797302Z"
    }
   },
   "outputs": [
    {
     "data": {
      "text/plain": [
       "((10000, 67), (40000, 67), (40000, 66), (32000, 66), (8000, 66))"
      ]
     },
     "execution_count": 49,
     "metadata": {},
     "output_type": "execute_result"
    }
   ],
   "source": [
    "# проверяем\n",
    "test_data.shape, train_data.shape, X.shape, X_train.shape, X_test.shape"
   ]
  },
  {
   "cell_type": "markdown",
   "metadata": {},
   "source": [
    "# Model \n",
    "Сам ML"
   ]
  },
  {
   "cell_type": "code",
   "execution_count": 50,
   "metadata": {
    "execution": {
     "iopub.execute_input": "2021-05-26T21:24:10.806369Z",
     "iopub.status.busy": "2021-05-26T21:24:10.806103Z",
     "iopub.status.idle": "2021-05-26T21:24:10.997900Z",
     "shell.execute_reply": "2021-05-26T21:24:10.996886Z",
     "shell.execute_reply.started": "2021-05-26T21:24:10.806327Z"
    }
   },
   "outputs": [],
   "source": [
    "# Импортируем необходимые библиотеки:\n",
    "from sklearn.ensemble import RandomForestRegressor # инструмент для создания и обучения модели\n",
    "from sklearn import metrics # инструменты для оценки точности модели"
   ]
  },
  {
   "cell_type": "code",
   "execution_count": 51,
   "metadata": {
    "execution": {
     "iopub.execute_input": "2021-05-26T21:24:11.000096Z",
     "iopub.status.busy": "2021-05-26T21:24:10.999690Z",
     "iopub.status.idle": "2021-05-26T21:24:11.005435Z",
     "shell.execute_reply": "2021-05-26T21:24:11.004555Z",
     "shell.execute_reply.started": "2021-05-26T21:24:11.000019Z"
    }
   },
   "outputs": [],
   "source": [
    "# Создаём модель (НАСТРОЙКИ НЕ ТРОГАЕМ)\n",
    "model = RandomForestRegressor(n_estimators=100, verbose=1, n_jobs=-1, random_state=RANDOM_SEED)"
   ]
  },
  {
   "cell_type": "code",
   "execution_count": 52,
   "metadata": {
    "execution": {
     "iopub.execute_input": "2021-05-26T21:24:11.007628Z",
     "iopub.status.busy": "2021-05-26T21:24:11.007265Z",
     "iopub.status.idle": "2021-05-26T21:24:22.253599Z",
     "shell.execute_reply": "2021-05-26T21:24:22.252672Z",
     "shell.execute_reply.started": "2021-05-26T21:24:11.007564Z"
    }
   },
   "outputs": [
    {
     "name": "stderr",
     "output_type": "stream",
     "text": [
      "[Parallel(n_jobs=-1)]: Using backend ThreadingBackend with 8 concurrent workers.\n",
      "[Parallel(n_jobs=-1)]: Done  34 tasks      | elapsed:    2.3s\n",
      "[Parallel(n_jobs=-1)]: Done 100 out of 100 | elapsed:    6.4s finished\n",
      "[Parallel(n_jobs=8)]: Using backend ThreadingBackend with 8 concurrent workers.\n",
      "[Parallel(n_jobs=8)]: Done  34 tasks      | elapsed:    0.0s\n",
      "[Parallel(n_jobs=8)]: Done 100 out of 100 | elapsed:    0.0s finished\n"
     ]
    }
   ],
   "source": [
    "# Обучаем модель на тестовом наборе данных\n",
    "model.fit(X_train, y_train)\n",
    "\n",
    "# Используем обученную модель для предсказания рейтинга ресторанов в тестовой выборке.\n",
    "# Предсказанные значения записываем в переменную y_pred\n",
    "y_pred = model.predict(X_test)"
   ]
  },
  {
   "cell_type": "code",
   "execution_count": 53,
   "metadata": {
    "execution": {
     "iopub.execute_input": "2021-05-26T21:24:22.255465Z",
     "iopub.status.busy": "2021-05-26T21:24:22.255147Z",
     "iopub.status.idle": "2021-05-26T21:24:22.261382Z",
     "shell.execute_reply": "2021-05-26T21:24:22.260062Z",
     "shell.execute_reply.started": "2021-05-26T21:24:22.255411Z"
    }
   },
   "outputs": [
    {
     "name": "stdout",
     "output_type": "stream",
     "text": [
      "MAE: 0.20685812499999998\n"
     ]
    }
   ],
   "source": [
    "# Сравниваем предсказанные значения (y_pred) с реальными (y_test), и смотрим насколько они в среднем отличаются\n",
    "# Метрика называется Mean Absolute Error (MAE) и показывает среднее отклонение предсказанных значений от фактических.\n",
    "print('MAE:', metrics.mean_absolute_error(y_test, y_pred))"
   ]
  },
  {
   "cell_type": "code",
   "execution_count": 54,
   "metadata": {
    "execution": {
     "iopub.execute_input": "2021-05-26T21:24:22.263504Z",
     "iopub.status.busy": "2021-05-26T21:24:22.263210Z",
     "iopub.status.idle": "2021-05-26T21:24:22.645362Z",
     "shell.execute_reply": "2021-05-26T21:24:22.644249Z",
     "shell.execute_reply.started": "2021-05-26T21:24:22.263453Z"
    }
   },
   "outputs": [
    {
     "data": {
      "text/plain": [
       "<AxesSubplot:>"
      ]
     },
     "execution_count": 54,
     "metadata": {},
     "output_type": "execute_result"
    },
    {
     "data": {
      "image/png": "[encoded data removed]",
      "text/plain": [
       "<Figure size 720x720 with 1 Axes>"
      ]
     },
     "metadata": {},
     "output_type": "display_data"
    }
   ],
   "source": [
    "# в RandomForestRegressor есть возможность вывести самые важные признаки для модели\n",
    "plt.rcParams['figure.figsize'] = (10,10)\n",
    "feat_importances = pd.Series(model.feature_importances_, index=X.columns)\n",
    "feat_importances.nlargest(15).plot(kind='barh')"
   ]
  },
  {
   "cell_type": "markdown",
   "metadata": {},
   "source": [
    "# Submission\n",
    "Если все устраевает - готовим Submission на кагл"
   ]
  },
  {
   "cell_type": "code",
   "execution_count": 55,
   "metadata": {
    "execution": {
     "iopub.execute_input": "2021-05-26T21:24:22.648723Z",
     "iopub.status.busy": "2021-05-26T21:24:22.648346Z",
     "iopub.status.idle": "2021-05-26T21:24:22.701378Z",
     "shell.execute_reply": "2021-05-26T21:24:22.700534Z",
     "shell.execute_reply.started": "2021-05-26T21:24:22.648664Z"
    }
   },
   "outputs": [
    {
     "data": {
      "text/html": [
       "<div>\n",
       "<style scoped>\n",
       "    .dataframe tbody tr th:only-of-type {\n",
       "        vertical-align: middle;\n",
       "    }\n",
       "\n",
       "    .dataframe tbody tr th {\n",
       "        vertical-align: top;\n",
       "    }\n",
       "\n",
       "    .dataframe thead th {\n",
       "        text-align: right;\n",
       "    }\n",
       "</style>\n",
       "<table border=\"1\" class=\"dataframe\">\n",
       "  <thead>\n",
       "    <tr style=\"text-align: right;\">\n",
       "      <th></th>\n",
       "      <th>Ranking</th>\n",
       "      <th>Number of Reviews</th>\n",
       "      <th>Rating</th>\n",
       "      <th>Price_Range_Cat</th>\n",
       "      <th>Middle_Price_Restaurant</th>\n",
       "      <th>Capital</th>\n",
       "      <th>Admin</th>\n",
       "      <th>Population</th>\n",
       "      <th>Cuisine_Style_Count</th>\n",
       "      <th>Reviews_Count</th>\n",
       "      <th>...</th>\n",
       "      <th>Country_Netherlands</th>\n",
       "      <th>Country_Norway</th>\n",
       "      <th>Country_Poland</th>\n",
       "      <th>Country_Portugal</th>\n",
       "      <th>Country_Slovakia</th>\n",
       "      <th>Country_Slovenia</th>\n",
       "      <th>Country_Spain</th>\n",
       "      <th>Country_Sweden</th>\n",
       "      <th>Country_Switzerland</th>\n",
       "      <th>Country_United Kingdom</th>\n",
       "    </tr>\n",
       "  </thead>\n",
       "  <tbody>\n",
       "    <tr>\n",
       "      <th>1666</th>\n",
       "      <td>34.0</td>\n",
       "      <td>375.0</td>\n",
       "      <td>0.0</td>\n",
       "      <td>2.0</td>\n",
       "      <td>0</td>\n",
       "      <td>1</td>\n",
       "      <td>0</td>\n",
       "      <td>1790658.0</td>\n",
       "      <td>5</td>\n",
       "      <td>2</td>\n",
       "      <td>...</td>\n",
       "      <td>0</td>\n",
       "      <td>0</td>\n",
       "      <td>1</td>\n",
       "      <td>0</td>\n",
       "      <td>0</td>\n",
       "      <td>0</td>\n",
       "      <td>0</td>\n",
       "      <td>0</td>\n",
       "      <td>0</td>\n",
       "      <td>0</td>\n",
       "    </tr>\n",
       "    <tr>\n",
       "      <th>5019</th>\n",
       "      <td>4048.0</td>\n",
       "      <td>35.0</td>\n",
       "      <td>0.0</td>\n",
       "      <td>1.0</td>\n",
       "      <td>1</td>\n",
       "      <td>1</td>\n",
       "      <td>0</td>\n",
       "      <td>2872800.0</td>\n",
       "      <td>1</td>\n",
       "      <td>2</td>\n",
       "      <td>...</td>\n",
       "      <td>0</td>\n",
       "      <td>0</td>\n",
       "      <td>0</td>\n",
       "      <td>0</td>\n",
       "      <td>0</td>\n",
       "      <td>0</td>\n",
       "      <td>0</td>\n",
       "      <td>0</td>\n",
       "      <td>0</td>\n",
       "      <td>0</td>\n",
       "    </tr>\n",
       "    <tr>\n",
       "      <th>2387</th>\n",
       "      <td>1277.0</td>\n",
       "      <td>3.0</td>\n",
       "      <td>0.0</td>\n",
       "      <td>1.0</td>\n",
       "      <td>0</td>\n",
       "      <td>0</td>\n",
       "      <td>0</td>\n",
       "      <td>488050.0</td>\n",
       "      <td>1</td>\n",
       "      <td>2</td>\n",
       "      <td>...</td>\n",
       "      <td>0</td>\n",
       "      <td>0</td>\n",
       "      <td>0</td>\n",
       "      <td>0</td>\n",
       "      <td>0</td>\n",
       "      <td>0</td>\n",
       "      <td>0</td>\n",
       "      <td>0</td>\n",
       "      <td>0</td>\n",
       "      <td>1</td>\n",
       "    </tr>\n",
       "    <tr>\n",
       "      <th>5744</th>\n",
       "      <td>1545.0</td>\n",
       "      <td>224.0</td>\n",
       "      <td>0.0</td>\n",
       "      <td>1.0</td>\n",
       "      <td>1</td>\n",
       "      <td>0</td>\n",
       "      <td>1</td>\n",
       "      <td>4588000.0</td>\n",
       "      <td>3</td>\n",
       "      <td>2</td>\n",
       "      <td>...</td>\n",
       "      <td>0</td>\n",
       "      <td>0</td>\n",
       "      <td>0</td>\n",
       "      <td>0</td>\n",
       "      <td>0</td>\n",
       "      <td>0</td>\n",
       "      <td>1</td>\n",
       "      <td>0</td>\n",
       "      <td>0</td>\n",
       "      <td>0</td>\n",
       "    </tr>\n",
       "    <tr>\n",
       "      <th>3540</th>\n",
       "      <td>1969.0</td>\n",
       "      <td>13.0</td>\n",
       "      <td>0.0</td>\n",
       "      <td>1.0</td>\n",
       "      <td>1</td>\n",
       "      <td>1</td>\n",
       "      <td>0</td>\n",
       "      <td>1840573.0</td>\n",
       "      <td>4</td>\n",
       "      <td>2</td>\n",
       "      <td>...</td>\n",
       "      <td>0</td>\n",
       "      <td>0</td>\n",
       "      <td>0</td>\n",
       "      <td>0</td>\n",
       "      <td>0</td>\n",
       "      <td>0</td>\n",
       "      <td>0</td>\n",
       "      <td>0</td>\n",
       "      <td>0</td>\n",
       "      <td>0</td>\n",
       "    </tr>\n",
       "    <tr>\n",
       "      <th>4192</th>\n",
       "      <td>7965.0</td>\n",
       "      <td>14.0</td>\n",
       "      <td>0.0</td>\n",
       "      <td>1.0</td>\n",
       "      <td>1</td>\n",
       "      <td>1</td>\n",
       "      <td>0</td>\n",
       "      <td>10979000.0</td>\n",
       "      <td>3</td>\n",
       "      <td>2</td>\n",
       "      <td>...</td>\n",
       "      <td>0</td>\n",
       "      <td>0</td>\n",
       "      <td>0</td>\n",
       "      <td>0</td>\n",
       "      <td>0</td>\n",
       "      <td>0</td>\n",
       "      <td>0</td>\n",
       "      <td>0</td>\n",
       "      <td>0</td>\n",
       "      <td>1</td>\n",
       "    </tr>\n",
       "    <tr>\n",
       "      <th>3243</th>\n",
       "      <td>2393.0</td>\n",
       "      <td>8.0</td>\n",
       "      <td>0.0</td>\n",
       "      <td>1.0</td>\n",
       "      <td>0</td>\n",
       "      <td>1</td>\n",
       "      <td>0</td>\n",
       "      <td>1840573.0</td>\n",
       "      <td>1</td>\n",
       "      <td>2</td>\n",
       "      <td>...</td>\n",
       "      <td>0</td>\n",
       "      <td>0</td>\n",
       "      <td>0</td>\n",
       "      <td>0</td>\n",
       "      <td>0</td>\n",
       "      <td>0</td>\n",
       "      <td>0</td>\n",
       "      <td>0</td>\n",
       "      <td>0</td>\n",
       "      <td>0</td>\n",
       "    </tr>\n",
       "    <tr>\n",
       "      <th>755</th>\n",
       "      <td>13315.0</td>\n",
       "      <td>3.0</td>\n",
       "      <td>0.0</td>\n",
       "      <td>1.0</td>\n",
       "      <td>0</td>\n",
       "      <td>1</td>\n",
       "      <td>0</td>\n",
       "      <td>10979000.0</td>\n",
       "      <td>1</td>\n",
       "      <td>2</td>\n",
       "      <td>...</td>\n",
       "      <td>0</td>\n",
       "      <td>0</td>\n",
       "      <td>0</td>\n",
       "      <td>0</td>\n",
       "      <td>0</td>\n",
       "      <td>0</td>\n",
       "      <td>0</td>\n",
       "      <td>0</td>\n",
       "      <td>0</td>\n",
       "      <td>1</td>\n",
       "    </tr>\n",
       "    <tr>\n",
       "      <th>2790</th>\n",
       "      <td>6013.0</td>\n",
       "      <td>5.0</td>\n",
       "      <td>0.0</td>\n",
       "      <td>1.0</td>\n",
       "      <td>0</td>\n",
       "      <td>0</td>\n",
       "      <td>1</td>\n",
       "      <td>1351562.0</td>\n",
       "      <td>1</td>\n",
       "      <td>0</td>\n",
       "      <td>...</td>\n",
       "      <td>0</td>\n",
       "      <td>0</td>\n",
       "      <td>0</td>\n",
       "      <td>0</td>\n",
       "      <td>0</td>\n",
       "      <td>0</td>\n",
       "      <td>0</td>\n",
       "      <td>0</td>\n",
       "      <td>0</td>\n",
       "      <td>0</td>\n",
       "    </tr>\n",
       "    <tr>\n",
       "      <th>7368</th>\n",
       "      <td>2517.0</td>\n",
       "      <td>644.0</td>\n",
       "      <td>0.0</td>\n",
       "      <td>2.0</td>\n",
       "      <td>0</td>\n",
       "      <td>1</td>\n",
       "      <td>0</td>\n",
       "      <td>10979000.0</td>\n",
       "      <td>3</td>\n",
       "      <td>2</td>\n",
       "      <td>...</td>\n",
       "      <td>0</td>\n",
       "      <td>0</td>\n",
       "      <td>0</td>\n",
       "      <td>0</td>\n",
       "      <td>0</td>\n",
       "      <td>0</td>\n",
       "      <td>0</td>\n",
       "      <td>0</td>\n",
       "      <td>0</td>\n",
       "      <td>1</td>\n",
       "    </tr>\n",
       "  </tbody>\n",
       "</table>\n",
       "<p>10 rows × 67 columns</p>\n",
       "</div>"
      ],
      "text/plain": [
       "      Ranking  Number of Reviews  Rating  Price_Range_Cat  \\\n",
       "1666     34.0              375.0     0.0              2.0   \n",
       "5019   4048.0               35.0     0.0              1.0   \n",
       "2387   1277.0                3.0     0.0              1.0   \n",
       "5744   1545.0              224.0     0.0              1.0   \n",
       "3540   1969.0               13.0     0.0              1.0   \n",
       "4192   7965.0               14.0     0.0              1.0   \n",
       "3243   2393.0                8.0     0.0              1.0   \n",
       "755   13315.0                3.0     0.0              1.0   \n",
       "2790   6013.0                5.0     0.0              1.0   \n",
       "7368   2517.0              644.0     0.0              2.0   \n",
       "\n",
       "      Middle_Price_Restaurant  Capital  Admin  Population  \\\n",
       "1666                        0        1      0   1790658.0   \n",
       "5019                        1        1      0   2872800.0   \n",
       "2387                        0        0      0    488050.0   \n",
       "5744                        1        0      1   4588000.0   \n",
       "3540                        1        1      0   1840573.0   \n",
       "4192                        1        1      0  10979000.0   \n",
       "3243                        0        1      0   1840573.0   \n",
       "755                         0        1      0  10979000.0   \n",
       "2790                        0        0      1   1351562.0   \n",
       "7368                        0        1      0  10979000.0   \n",
       "\n",
       "      Cuisine_Style_Count  Reviews_Count  ...  Country_Netherlands  \\\n",
       "1666                    5              2  ...                    0   \n",
       "5019                    1              2  ...                    0   \n",
       "2387                    1              2  ...                    0   \n",
       "5744                    3              2  ...                    0   \n",
       "3540                    4              2  ...                    0   \n",
       "4192                    3              2  ...                    0   \n",
       "3243                    1              2  ...                    0   \n",
       "755                     1              2  ...                    0   \n",
       "2790                    1              0  ...                    0   \n",
       "7368                    3              2  ...                    0   \n",
       "\n",
       "      Country_Norway  Country_Poland  Country_Portugal  Country_Slovakia  \\\n",
       "1666               0               1                 0                 0   \n",
       "5019               0               0                 0                 0   \n",
       "2387               0               0                 0                 0   \n",
       "5744               0               0                 0                 0   \n",
       "3540               0               0                 0                 0   \n",
       "4192               0               0                 0                 0   \n",
       "3243               0               0                 0                 0   \n",
       "755                0               0                 0                 0   \n",
       "2790               0               0                 0                 0   \n",
       "7368               0               0                 0                 0   \n",
       "\n",
       "      Country_Slovenia  Country_Spain  Country_Sweden  Country_Switzerland  \\\n",
       "1666                 0              0               0                    0   \n",
       "5019                 0              0               0                    0   \n",
       "2387                 0              0               0                    0   \n",
       "5744                 0              1               0                    0   \n",
       "3540                 0              0               0                    0   \n",
       "4192                 0              0               0                    0   \n",
       "3243                 0              0               0                    0   \n",
       "755                  0              0               0                    0   \n",
       "2790                 0              0               0                    0   \n",
       "7368                 0              0               0                    0   \n",
       "\n",
       "      Country_United Kingdom  \n",
       "1666                       0  \n",
       "5019                       0  \n",
       "2387                       1  \n",
       "5744                       0  \n",
       "3540                       0  \n",
       "4192                       1  \n",
       "3243                       0  \n",
       "755                        1  \n",
       "2790                       0  \n",
       "7368                       1  \n",
       "\n",
       "[10 rows x 67 columns]"
      ]
     },
     "execution_count": 55,
     "metadata": {},
     "output_type": "execute_result"
    }
   ],
   "source": [
    "test_data.sample(10)"
   ]
  },
  {
   "cell_type": "code",
   "execution_count": 56,
   "metadata": {
    "execution": {
     "iopub.execute_input": "2021-05-26T21:24:22.702687Z",
     "iopub.status.busy": "2021-05-26T21:24:22.702458Z",
     "iopub.status.idle": "2021-05-26T21:24:22.712702Z",
     "shell.execute_reply": "2021-05-26T21:24:22.711752Z",
     "shell.execute_reply.started": "2021-05-26T21:24:22.702653Z"
    }
   },
   "outputs": [],
   "source": [
    "test_data = test_data.drop(['Rating'], axis=1)"
   ]
  },
  {
   "cell_type": "code",
   "execution_count": 57,
   "metadata": {
    "execution": {
     "iopub.execute_input": "2021-05-26T21:24:22.714755Z",
     "iopub.status.busy": "2021-05-26T21:24:22.714446Z",
     "iopub.status.idle": "2021-05-26T21:24:22.735920Z",
     "shell.execute_reply": "2021-05-26T21:24:22.734873Z",
     "shell.execute_reply.started": "2021-05-26T21:24:22.714693Z"
    }
   },
   "outputs": [
    {
     "data": {
      "text/html": [
       "<div>\n",
       "<style scoped>\n",
       "    .dataframe tbody tr th:only-of-type {\n",
       "        vertical-align: middle;\n",
       "    }\n",
       "\n",
       "    .dataframe tbody tr th {\n",
       "        vertical-align: top;\n",
       "    }\n",
       "\n",
       "    .dataframe thead th {\n",
       "        text-align: right;\n",
       "    }\n",
       "</style>\n",
       "<table border=\"1\" class=\"dataframe\">\n",
       "  <thead>\n",
       "    <tr style=\"text-align: right;\">\n",
       "      <th></th>\n",
       "      <th>Restaurant_id</th>\n",
       "      <th>Rating</th>\n",
       "    </tr>\n",
       "  </thead>\n",
       "  <tbody>\n",
       "    <tr>\n",
       "      <th>0</th>\n",
       "      <td>id_0</td>\n",
       "      <td>2.0</td>\n",
       "    </tr>\n",
       "    <tr>\n",
       "      <th>1</th>\n",
       "      <td>id_1</td>\n",
       "      <td>2.5</td>\n",
       "    </tr>\n",
       "    <tr>\n",
       "      <th>2</th>\n",
       "      <td>id_2</td>\n",
       "      <td>4.0</td>\n",
       "    </tr>\n",
       "    <tr>\n",
       "      <th>3</th>\n",
       "      <td>id_3</td>\n",
       "      <td>1.0</td>\n",
       "    </tr>\n",
       "    <tr>\n",
       "      <th>4</th>\n",
       "      <td>id_4</td>\n",
       "      <td>4.0</td>\n",
       "    </tr>\n",
       "    <tr>\n",
       "      <th>...</th>\n",
       "      <td>...</td>\n",
       "      <td>...</td>\n",
       "    </tr>\n",
       "    <tr>\n",
       "      <th>9995</th>\n",
       "      <td>id_9995</td>\n",
       "      <td>3.0</td>\n",
       "    </tr>\n",
       "    <tr>\n",
       "      <th>9996</th>\n",
       "      <td>id_9996</td>\n",
       "      <td>1.5</td>\n",
       "    </tr>\n",
       "    <tr>\n",
       "      <th>9997</th>\n",
       "      <td>id_9997</td>\n",
       "      <td>4.5</td>\n",
       "    </tr>\n",
       "    <tr>\n",
       "      <th>9998</th>\n",
       "      <td>id_9998</td>\n",
       "      <td>1.0</td>\n",
       "    </tr>\n",
       "    <tr>\n",
       "      <th>9999</th>\n",
       "      <td>id_9999</td>\n",
       "      <td>2.5</td>\n",
       "    </tr>\n",
       "  </tbody>\n",
       "</table>\n",
       "<p>10000 rows × 2 columns</p>\n",
       "</div>"
      ],
      "text/plain": [
       "     Restaurant_id  Rating\n",
       "0             id_0     2.0\n",
       "1             id_1     2.5\n",
       "2             id_2     4.0\n",
       "3             id_3     1.0\n",
       "4             id_4     4.0\n",
       "...            ...     ...\n",
       "9995       id_9995     3.0\n",
       "9996       id_9996     1.5\n",
       "9997       id_9997     4.5\n",
       "9998       id_9998     1.0\n",
       "9999       id_9999     2.5\n",
       "\n",
       "[10000 rows x 2 columns]"
      ]
     },
     "execution_count": 57,
     "metadata": {},
     "output_type": "execute_result"
    }
   ],
   "source": [
    "sample_submission"
   ]
  },
  {
   "cell_type": "code",
   "execution_count": 58,
   "metadata": {
    "execution": {
     "iopub.execute_input": "2021-05-26T21:24:22.737751Z",
     "iopub.status.busy": "2021-05-26T21:24:22.737338Z",
     "iopub.status.idle": "2021-05-26T21:24:22.956018Z",
     "shell.execute_reply": "2021-05-26T21:24:22.955091Z",
     "shell.execute_reply.started": "2021-05-26T21:24:22.737664Z"
    }
   },
   "outputs": [
    {
     "name": "stderr",
     "output_type": "stream",
     "text": [
      "[Parallel(n_jobs=8)]: Using backend ThreadingBackend with 8 concurrent workers.\n",
      "[Parallel(n_jobs=8)]: Done  34 tasks      | elapsed:    0.0s\n",
      "[Parallel(n_jobs=8)]: Done 100 out of 100 | elapsed:    0.0s finished\n"
     ]
    }
   ],
   "source": [
    "predict_submission = model.predict(test_data)"
   ]
  },
  {
   "cell_type": "code",
   "execution_count": 59,
   "metadata": {
    "execution": {
     "iopub.execute_input": "2021-05-26T21:24:22.957490Z",
     "iopub.status.busy": "2021-05-26T21:24:22.957179Z",
     "iopub.status.idle": "2021-05-26T21:24:22.964453Z",
     "shell.execute_reply": "2021-05-26T21:24:22.963486Z",
     "shell.execute_reply.started": "2021-05-26T21:24:22.957442Z"
    }
   },
   "outputs": [
    {
     "data": {
      "text/plain": [
       "array([3.11 , 4.265, 4.505, ..., 3.07 , 4.495, 4.3  ])"
      ]
     },
     "execution_count": 59,
     "metadata": {},
     "output_type": "execute_result"
    }
   ],
   "source": [
    "predict_submission"
   ]
  },
  {
   "cell_type": "code",
   "execution_count": 60,
   "metadata": {
    "execution": {
     "iopub.execute_input": "2021-05-26T21:24:22.967335Z",
     "iopub.status.busy": "2021-05-26T21:24:22.966740Z",
     "iopub.status.idle": "2021-05-26T21:24:22.991817Z",
     "shell.execute_reply": "2021-05-26T21:24:22.988874Z",
     "shell.execute_reply.started": "2021-05-26T21:24:22.967273Z"
    }
   },
   "outputs": [
    {
     "data": {
      "text/plain": [
       "array([3. , 4.5, 4.5, ..., 3. , 4.5, 4.5])"
      ]
     },
     "execution_count": 60,
     "metadata": {},
     "output_type": "execute_result"
    }
   ],
   "source": [
    "#округляем до 0.5\n",
    "predict_submission =  (predict_submission * 2).round(0) / 2\n",
    "predict_submission"
   ]
  },
  {
   "cell_type": "code",
   "execution_count": 61,
   "metadata": {
    "execution": {
     "iopub.execute_input": "2021-05-26T21:24:22.996076Z",
     "iopub.status.busy": "2021-05-26T21:24:22.995670Z",
     "iopub.status.idle": "2021-05-26T21:24:23.601672Z",
     "shell.execute_reply": "2021-05-26T21:24:23.600858Z",
     "shell.execute_reply.started": "2021-05-26T21:24:22.996012Z"
    }
   },
   "outputs": [
    {
     "data": {
      "text/html": [
       "<div>\n",
       "<style scoped>\n",
       "    .dataframe tbody tr th:only-of-type {\n",
       "        vertical-align: middle;\n",
       "    }\n",
       "\n",
       "    .dataframe tbody tr th {\n",
       "        vertical-align: top;\n",
       "    }\n",
       "\n",
       "    .dataframe thead th {\n",
       "        text-align: right;\n",
       "    }\n",
       "</style>\n",
       "<table border=\"1\" class=\"dataframe\">\n",
       "  <thead>\n",
       "    <tr style=\"text-align: right;\">\n",
       "      <th></th>\n",
       "      <th>Restaurant_id</th>\n",
       "      <th>Rating</th>\n",
       "    </tr>\n",
       "  </thead>\n",
       "  <tbody>\n",
       "    <tr>\n",
       "      <th>0</th>\n",
       "      <td>id_0</td>\n",
       "      <td>3.0</td>\n",
       "    </tr>\n",
       "    <tr>\n",
       "      <th>1</th>\n",
       "      <td>id_1</td>\n",
       "      <td>4.5</td>\n",
       "    </tr>\n",
       "    <tr>\n",
       "      <th>2</th>\n",
       "      <td>id_2</td>\n",
       "      <td>4.5</td>\n",
       "    </tr>\n",
       "    <tr>\n",
       "      <th>3</th>\n",
       "      <td>id_3</td>\n",
       "      <td>4.0</td>\n",
       "    </tr>\n",
       "    <tr>\n",
       "      <th>4</th>\n",
       "      <td>id_4</td>\n",
       "      <td>4.5</td>\n",
       "    </tr>\n",
       "    <tr>\n",
       "      <th>5</th>\n",
       "      <td>id_5</td>\n",
       "      <td>4.5</td>\n",
       "    </tr>\n",
       "    <tr>\n",
       "      <th>6</th>\n",
       "      <td>id_6</td>\n",
       "      <td>2.5</td>\n",
       "    </tr>\n",
       "    <tr>\n",
       "      <th>7</th>\n",
       "      <td>id_7</td>\n",
       "      <td>2.5</td>\n",
       "    </tr>\n",
       "    <tr>\n",
       "      <th>8</th>\n",
       "      <td>id_8</td>\n",
       "      <td>4.0</td>\n",
       "    </tr>\n",
       "    <tr>\n",
       "      <th>9</th>\n",
       "      <td>id_9</td>\n",
       "      <td>4.5</td>\n",
       "    </tr>\n",
       "  </tbody>\n",
       "</table>\n",
       "</div>"
      ],
      "text/plain": [
       "  Restaurant_id  Rating\n",
       "0          id_0     3.0\n",
       "1          id_1     4.5\n",
       "2          id_2     4.5\n",
       "3          id_3     4.0\n",
       "4          id_4     4.5\n",
       "5          id_5     4.5\n",
       "6          id_6     2.5\n",
       "7          id_7     2.5\n",
       "8          id_8     4.0\n",
       "9          id_9     4.5"
      ]
     },
     "execution_count": 61,
     "metadata": {},
     "output_type": "execute_result"
    }
   ],
   "source": [
    "sample_submission['Rating'] = predict_submission\n",
    "sample_submission.to_csv('submission.csv', index=False)\n",
    "sample_submission.head(10)"
   ]
  },
  {
   "cell_type": "markdown",
   "metadata": {},
   "source": [
    "# What's next?\n",
    "Или что делать, чтоб улучшить результат:\n",
    "* Обработать оставшиеся признаки в понятный для машины формат\n",
    "* Посмотреть, что еще можно извлечь из признаков\n",
    "* Сгенерировать новые признаки\n",
    "* Подгрузить дополнительные данные, например: по населению или благосостоянию городов\n",
    "* Подобрать состав признаков\n",
    "\n",
    "В общем, процесс творческий и весьма увлекательный! Удачи в соревновании!\n"
   ]
  }
 ],
 "metadata": {
  "kernelspec": {
   "display_name": "Python 3",
   "language": "python",
   "name": "python3"
  },
  "language_info": {
   "codemirror_mode": {
    "name": "ipython",
    "version": 3
   },
   "file_extension": ".py",
   "mimetype": "text/x-python",
   "name": "python",
   "nbconvert_exporter": "python",
   "pygments_lexer": "ipython3",
   "version": "3.8.0"
  }
 },
 "nbformat": 4,
 "nbformat_minor": 4
}
