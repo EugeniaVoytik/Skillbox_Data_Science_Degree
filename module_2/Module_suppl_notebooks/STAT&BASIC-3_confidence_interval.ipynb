{
 "cells": [
  {
   "cell_type": "code",
   "execution_count": 12,
   "metadata": {},
   "outputs": [],
   "source": [
    "from scipy.stats import norm\n",
    "from scipy.stats import t\n",
    "import numpy as np\n",
    "import math"
   ]
  },
  {
   "cell_type": "code",
   "execution_count": 25,
   "metadata": {},
   "outputs": [],
   "source": [
    "# Для случая с известным значением σ предел погрешности и его интервалы\n",
    "def confidence_interval_norm(alpha, sigma, n, mean):\n",
    "    value = -norm.ppf(alpha / 2) * sigma / math.sqrt(n)\n",
    "    return round(mean - value, 2), round(mean + value, 2)\n",
    "\n",
    "# Для случая с неизвестным значением σ предел погрешности и его интервалы\n",
    "def confidence_interval_t(alpha, s, n, mean):\n",
    "    \"\"\"\n",
    "    t.ppf((1+p)/2, k)\n",
    "    n - 1 - k or ... of freedom\n",
    "    \"\"\"\n",
    "    value = -t.ppf(alpha / 2, n - 1) * s / math.sqrt(n)\n",
    "    return round(mean - value, 2), round(mean + value, 2)"
   ]
  },
  {
   "cell_type": "code",
   "execution_count": 26,
   "metadata": {},
   "outputs": [
    {
     "name": "stdout",
     "output_type": "stream",
     "text": [
      "На 90% уровне доверия: (1818.09, 2181.91)\n",
      "На 95% уровне доверия: (1778.49, 2221.51)\n",
      "На 99% уровне доверия: (1692.55, 2307.45)\n"
     ]
    }
   ],
   "source": [
    "print(f\"На 90% уровне доверия: {confidence_interval_t(0.1, 400, 15, 2000)}\")\n",
    "print(f\"На 95% уровне доверия: {confidence_interval_t(0.05, 400, 15, 2000)}\")\n",
    "print(f\"На 99% уровне доверия: {confidence_interval_t(0.01, 400, 15, 2000)}\")                                "
   ]
  },
  {
   "cell_type": "code",
   "execution_count": 27,
   "metadata": {},
   "outputs": [
    {
     "name": "stdout",
     "output_type": "stream",
     "text": [
      "На 99% уровне доверия: (3352.65, 3727.35)\n"
     ]
    }
   ],
   "source": [
    "print(f\"На 99% уровне доверия: {confidence_interval_norm(0.01, 1150, 250, 3540)}\") "
   ]
  },
  {
   "cell_type": "code",
   "execution_count": 28,
   "metadata": {},
   "outputs": [
    {
     "data": {
      "text/plain": [
       "[1.2, 0.2, 1.6, 1.9, -0.4, 0.5, 1.4, 1.7, 2.5, 1.3]"
      ]
     },
     "execution_count": 28,
     "metadata": {},
     "output_type": "execute_result"
    }
   ],
   "source": [
    "data = [float(each) for each in \"1.2\t0.2\t1.6\t1.9\t-0.4\t0.5\t1.4\t1.7\t2.5\t1.3\".split()]\n",
    "data"
   ]
  },
  {
   "cell_type": "code",
   "execution_count": 31,
   "metadata": {},
   "outputs": [],
   "source": [
    "# data\n",
    "data_mean = np.mean(data)\n",
    "data_std = np.std(data, ddof=1)\n",
    "data_n = len(data)\n",
    "data_alpha = 0.05"
   ]
  },
  {
   "cell_type": "code",
   "execution_count": 32,
   "metadata": {},
   "outputs": [
    {
     "name": "stdout",
     "output_type": "stream",
     "text": [
      "На 95% уровне доверия: (0.57, 1.81)\n"
     ]
    }
   ],
   "source": [
    "print(f\"На 95% уровне доверия: {confidence_interval_t(data_alpha, data_std, data_n, data_mean)}\") "
   ]
  },
  {
   "cell_type": "code",
   "execution_count": 34,
   "metadata": {},
   "outputs": [
    {
     "name": "stdout",
     "output_type": "stream",
     "text": [
      "1.9842169515086827\n"
     ]
    }
   ],
   "source": [
    "# 0.95 - доверительный интервал, 100-1 число степеней свободы\n",
    "# для двустороннего t-теста\n",
    "value = t.ppf((1 + 0.95)/2, 100-1)\n",
    "print(value) # 1.98"
   ]
  },
  {
   "cell_type": "markdown",
   "metadata": {},
   "source": [
    "Найти значение любого -критического можно самостоятельно в Python, используя функцию norm.ppf(). Импортируем необходимую для этого библиотеку: "
   ]
  },
  {
   "cell_type": "code",
   "execution_count": 35,
   "metadata": {},
   "outputs": [
    {
     "name": "stdout",
     "output_type": "stream",
     "text": [
      "2.1700903775845606\n"
     ]
    }
   ],
   "source": [
    "alpha = 0.03\n",
    "value = -norm.ppf(alpha/2)\n",
    "print(value) # 2.17"
   ]
  },
  {
   "cell_type": "code",
   "execution_count": 37,
   "metadata": {},
   "outputs": [
    {
     "data": {
      "text/plain": [
       "1.81"
      ]
     },
     "execution_count": 37,
     "metadata": {},
     "output_type": "execute_result"
    }
   ],
   "source": [
    "# Найдите z-критическое для интервала с уровнем доверия 93 %. Укажите с точностью до 2 знаков после разделительной точки.\n",
    "alpha = 0.07\n",
    "round(-norm.ppf(alpha/2), 2)"
   ]
  },
  {
   "cell_type": "code",
   "execution_count": 42,
   "metadata": {},
   "outputs": [
    {
     "data": {
      "text/plain": [
       "2.575829303548901"
      ]
     },
     "execution_count": 42,
     "metadata": {},
     "output_type": "execute_result"
    }
   ],
   "source": [
    "# 1. Доверительный интервал для среднего  нормально распределённой величины , на выборке размером , \n",
    "# если !!! σ известна, на 99 % уровне доверия\n",
    "-norm.ppf(0.01/2)"
   ]
  },
  {
   "cell_type": "code",
   "execution_count": 39,
   "metadata": {},
   "outputs": [
    {
     "data": {
      "text/plain": [
       "3.2498355440153697"
      ]
     },
     "execution_count": 39,
     "metadata": {},
     "output_type": "execute_result"
    }
   ],
   "source": [
    "# 2. Доверительный интервал для среднего  нормально распределённой величины , на выборке размером , \n",
    "# если  !!! σ неизвестна, на 99% уровне доверия\n",
    "t.ppf((1 + 0.99)/2, 10-1)"
   ]
  },
  {
   "cell_type": "code",
   "execution_count": 44,
   "metadata": {},
   "outputs": [
    {
     "data": {
      "text/plain": [
       "1.9842169515086827"
      ]
     },
     "execution_count": 44,
     "metadata": {},
     "output_type": "execute_result"
    }
   ],
   "source": [
    "# 3. Доверительный интервал для среднего , на выборке размером n=100, σ неизвестна, на 95% уровне доверия\n",
    "t.ppf((1 + 0.95)/2, 100-1)"
   ]
  },
  {
   "cell_type": "code",
   "execution_count": 48,
   "metadata": {},
   "outputs": [
    {
     "data": {
      "text/plain": [
       "1.9599639845400545"
      ]
     },
     "execution_count": 48,
     "metadata": {},
     "output_type": "execute_result"
    }
   ],
   "source": [
    "-norm.ppf(0.05/2)"
   ]
  },
  {
   "cell_type": "code",
   "execution_count": null,
   "metadata": {},
   "outputs": [],
   "source": []
  }
 ],
 "metadata": {
  "kernelspec": {
   "display_name": "Python 3",
   "language": "python",
   "name": "python3"
  },
  "language_info": {
   "codemirror_mode": {
    "name": "ipython",
    "version": 3
   },
   "file_extension": ".py",
   "mimetype": "text/x-python",
   "name": "python",
   "nbconvert_exporter": "python",
   "pygments_lexer": "ipython3",
   "version": "3.8.5"
  }
 },
 "nbformat": 4,
 "nbformat_minor": 4
}
