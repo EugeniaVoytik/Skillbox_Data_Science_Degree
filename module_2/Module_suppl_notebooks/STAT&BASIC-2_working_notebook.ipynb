{
 "cells": [
  {
   "cell_type": "code",
   "execution_count": 22,
   "metadata": {},
   "outputs": [],
   "source": [
    "from scipy.stats import norm"
   ]
  },
  {
   "cell_type": "code",
   "execution_count": 2,
   "metadata": {},
   "outputs": [
    {
     "data": {
      "text/plain": [
       "0.9331927987311419"
      ]
     },
     "execution_count": 2,
     "metadata": {},
     "output_type": "execute_result"
    }
   ],
   "source": [
    "# Cumulative distribution function\n",
    "norm.cdf(1.5)"
   ]
  },
  {
   "cell_type": "code",
   "execution_count": 3,
   "metadata": {},
   "outputs": [
    {
     "data": {
      "text/plain": [
       "1.4999999999999996"
      ]
     },
     "execution_count": 3,
     "metadata": {},
     "output_type": "execute_result"
    }
   ],
   "source": [
    "# Percent point function\n",
    "norm.ppf(0.9331927987311419)"
   ]
  },
  {
   "cell_type": "code",
   "execution_count": 6,
   "metadata": {},
   "outputs": [
    {
     "name": "stdout",
     "output_type": "stream",
     "text": [
      "a is 0.84\n",
      "b is 0.87\n",
      "c is 0.03\n",
      "d is 0.02\n"
     ]
    }
   ],
   "source": [
    "# Z — стандартная нормальная величина. Используя функцию norm.cdf(), найдите ниже указанные значения. \n",
    "# Ответ округлите до 2 знаков после разделительной точки.\n",
    "# a) P(Z<1)=\n",
    "print(f\"a is {norm.cdf(1) :.2f}\")\n",
    "# b) P(Z<1.12)=\n",
    "print(f\"b is {norm.cdf(1.12) :.2f}\")\n",
    "# c) P(Z<-1.87)=\n",
    "print(f\"c is {norm.cdf(-1.87) :.2f}\")\n",
    "# d) P(Z>2)=\n",
    "print(f\"d is {1 - norm.cdf(2) :.2f}\")"
   ]
  },
  {
   "cell_type": "code",
   "execution_count": 14,
   "metadata": {},
   "outputs": [
    {
     "name": "stdout",
     "output_type": "stream",
     "text": [
      "a is -1.28\n",
      "b is 1.6448536269514729\n",
      "c is -1.96\n",
      "d is 2.3263478740408408\n",
      "e is -2.58\n"
     ]
    }
   ],
   "source": [
    "# Используя функцию norm.ppf(), найдите число .\n",
    "# Ответ округлите до 2 знаков после разделительной точки:\n",
    "# a) P(Z<c)=0.1\n",
    "print(f\"a is {norm.ppf(0.1) :.2f}\")\n",
    "# b) P(Z>c)=0.05\n",
    "print(f\"b is {-norm.ppf(0.05, 0, 1)}\")\n",
    "# c) P(Z<c)=0.025\n",
    "print(f\"c is {norm.ppf(0.025) :.2f}\")\n",
    "# d) P(Z>c)=0.01\n",
    "print(f\"d is {-norm.ppf(0.01)}\")\n",
    "# e) P(Z<c)=0.005\n",
    "print(f\"e is {norm.ppf(0.005) :.2f}\")"
   ]
  },
  {
   "cell_type": "code",
   "execution_count": 18,
   "metadata": {},
   "outputs": [
    {
     "data": {
      "text/plain": [
       "0.0126736593387341"
      ]
     },
     "execution_count": 18,
     "metadata": {},
     "output_type": "execute_result"
    }
   ],
   "source": [
    "1 - norm.cdf(75, 70, 5**(1/2))"
   ]
  },
  {
   "cell_type": "code",
   "execution_count": 24,
   "metadata": {},
   "outputs": [
    {
     "data": {
      "text/plain": [
       "0.06680720126885807"
      ]
     },
     "execution_count": 24,
     "metadata": {},
     "output_type": "execute_result"
    }
   ],
   "source": [
    "norm.cdf(0.16, 0.2, ((0.2*0.8/225) ** (1/2)))"
   ]
  },
  {
   "cell_type": "markdown",
   "metadata": {},
   "source": [
    "### Task 1\n",
    "Оценки студентов на международной онлайн олимпиаде распределены нормально со средним 700 баллов и стандартным отклонением 120 баллов. Диплом первой категории выдается участникам, набравшим более 820 баллов. Диплом второй категории — участникам, набравшим от 730 до 820 баллов. Для решения задачи используйте функции norm.cdf() и norm.ppf() из пакета scipy.stats."
   ]
  },
  {
   "cell_type": "code",
   "execution_count": 26,
   "metadata": {},
   "outputs": [
    {
     "data": {
      "text/plain": [
       "0.15865525393145707"
      ]
     },
     "execution_count": 26,
     "metadata": {},
     "output_type": "execute_result"
    }
   ],
   "source": [
    "1 - norm.cdf(820, 700, 120)"
   ]
  },
  {
   "cell_type": "code",
   "execution_count": 27,
   "metadata": {},
   "outputs": [
    {
     "data": {
      "text/plain": [
       "0.24263842038561922"
      ]
     },
     "execution_count": 27,
     "metadata": {},
     "output_type": "execute_result"
    }
   ],
   "source": [
    "norm.cdf(820, 700, 120) - norm.cdf(730, 700, 120)"
   ]
  },
  {
   "cell_type": "code",
   "execution_count": 28,
   "metadata": {},
   "outputs": [
    {
     "data": {
      "text/plain": [
       "502.61756476582326"
      ]
     },
     "execution_count": 28,
     "metadata": {},
     "output_type": "execute_result"
    }
   ],
   "source": [
    "norm.ppf(0.05, 700, 120)"
   ]
  },
  {
   "cell_type": "code",
   "execution_count": null,
   "metadata": {},
   "outputs": [],
   "source": []
  }
 ],
 "metadata": {
  "kernelspec": {
   "display_name": "Python 3",
   "language": "python",
   "name": "python3"
  },
  "language_info": {
   "codemirror_mode": {
    "name": "ipython",
    "version": 3
   },
   "file_extension": ".py",
   "mimetype": "text/x-python",
   "name": "python",
   "nbconvert_exporter": "python",
   "pygments_lexer": "ipython3",
   "version": "3.8.5"
  }
 },
 "nbformat": 4,
 "nbformat_minor": 4
}
