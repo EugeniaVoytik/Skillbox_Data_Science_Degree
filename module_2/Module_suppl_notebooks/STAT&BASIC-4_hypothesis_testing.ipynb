{
 "cells": [
  {
   "cell_type": "code",
   "execution_count": 1,
   "metadata": {},
   "outputs": [],
   "source": [
    "from scipy.stats import norm\n",
    "from scipy.stats import t\n",
    "import numpy as np\n",
    "import math"
   ]
  },
  {
   "cell_type": "code",
   "execution_count": 25,
   "metadata": {},
   "outputs": [],
   "source": [
    "# Для случая с известным значением σ предел погрешности и его интервалы\n",
    "def confidence_interval_norm(alpha, sigma, n, mean):\n",
    "    value = -norm.ppf(alpha / 2) * sigma / math.sqrt(n)\n",
    "    return round(mean - value, 2), round(mean + value, 2)\n",
    "\n",
    "# Для случая с неизвестным значением σ предел погрешности и его интервалы\n",
    "def confidence_interval_t(alpha, s, n, mean):\n",
    "    \"\"\"\n",
    "    t.ppf((1+p)/2, k)\n",
    "    n - 1 - k or ... of freedom\n",
    "    \"\"\"\n",
    "    value = -t.ppf(alpha / 2, n - 1) * s / math.sqrt(n)\n",
    "    return round(mean - value, 2), round(mean + value, 2)"
   ]
  },
  {
   "cell_type": "markdown",
   "metadata": {},
   "source": [
    "#### Задача 1. Условия \n",
    "\n",
    "Производитель аккумуляторных батарей заявляет, что средний срок службы батарейки АА составляет 14 месяцев. Вы подозреваете, что на самом деле это число преувеличено.\n",
    "\n",
    "Чтобы проверить утверждение производителя, вы взяли случайную выборку из 64 батареек и посчитали выборочное среднее —  13.5 месяцев. Известно, что срок службы батарейки имеет стандартное отклонение 2 месяца. Для тестирования гипотезы используйте уровень значимости alpha=0.05.\n",
    "\n",
    "Обратите внимание, что как постановка альтернативной гипотезы, так и выбор уровня значимости alpha может повлиять на вывод, который вы делаете в результате тестирования гипотезы."
   ]
  },
  {
   "cell_type": "code",
   "execution_count": 3,
   "metadata": {},
   "outputs": [
    {
     "data": {
      "text/plain": [
       "0.022750131948179195"
      ]
     },
     "execution_count": 3,
     "metadata": {},
     "output_type": "execute_result"
    }
   ],
   "source": [
    "task1_global_mean = 14\n",
    "task1_sigma = 2\n",
    "\n",
    "task1_n = 64\n",
    "task1_sample_mean = 13.5\n",
    "task1_alpha = 0.05\n",
    "\n",
    "# H0: global_mean = 14\n",
    "# H1: global_mean < 14"
   ]
  },
  {
   "cell_type": "code",
   "execution_count": 10,
   "metadata": {},
   "outputs": [
    {
     "data": {
      "text/plain": [
       "-2.0"
      ]
     },
     "execution_count": 10,
     "metadata": {},
     "output_type": "execute_result"
    }
   ],
   "source": [
    "task1_z_stat = (task1_sample_mean - task1_global_mean) / (task1_sigma / np.sqrt(task1_n))\n",
    "task1_z_stat"
   ]
  },
  {
   "cell_type": "code",
   "execution_count": 17,
   "metadata": {},
   "outputs": [
    {
     "data": {
      "text/plain": [
       "0.023"
      ]
     },
     "execution_count": 17,
     "metadata": {},
     "output_type": "execute_result"
    }
   ],
   "source": [
    "task1_p_value = round(norm.cdf(task1_z_stat), 3)\n",
    "task1_p_value"
   ]
  },
  {
   "cell_type": "code",
   "execution_count": 13,
   "metadata": {},
   "outputs": [
    {
     "name": "stdout",
     "output_type": "stream",
     "text": [
      "We reject H0 and accept the alternative one.\n"
     ]
    }
   ],
   "source": [
    "if task1_p_value < task1_alpha:\n",
    "    print('We reject H0 and accept the alternative one.')\n",
    "else:\n",
    "    print(\"We can't reject H0.\")"
   ]
  },
  {
   "cell_type": "markdown",
   "metadata": {},
   "source": [
    "#### Задача 2. Условия\n",
    "\n",
    "На упаковке муки указана ее масса — 455 г. Известно, что масса муки в упаковке распределена приблизительно нормально, и что ее стандартное отклонение составляет 12.5 граммов. В случайной выборке из 16 упаковок средняя масса составила 449 граммов.\n",
    "\n",
    "Протестируйте на уровне значимости 5% нулевую гипотезу о том, что средняя масса упаковки с мукой составляет 455 граммов."
   ]
  },
  {
   "cell_type": "code",
   "execution_count": 15,
   "metadata": {},
   "outputs": [],
   "source": [
    "task2_global_mean = 455\n",
    "task2_sigma = 12.5\n",
    "\n",
    "task2_n = 16\n",
    "task2_sample_mean = 449\n",
    "task2_alpha = 0.05\n",
    "\n",
    "# H0: global_mean = 455\n",
    "# H1: global_mean != 455"
   ]
  },
  {
   "cell_type": "code",
   "execution_count": 16,
   "metadata": {},
   "outputs": [
    {
     "data": {
      "text/plain": [
       "-1.92"
      ]
     },
     "execution_count": 16,
     "metadata": {},
     "output_type": "execute_result"
    }
   ],
   "source": [
    "task2_z_stat = (task2_sample_mean - task2_global_mean) / (task2_sigma / np.sqrt(task2_n))\n",
    "task2_z_stat"
   ]
  },
  {
   "cell_type": "code",
   "execution_count": 20,
   "metadata": {
    "scrolled": true
   },
   "outputs": [
    {
     "data": {
      "text/plain": [
       "0.055"
      ]
     },
     "execution_count": 20,
     "metadata": {},
     "output_type": "execute_result"
    }
   ],
   "source": [
    "task2_p_value = round(norm.cdf(task2_z_stat) * 2, 3) # because it's both tails area\n",
    "task2_p_value"
   ]
  },
  {
   "cell_type": "code",
   "execution_count": 23,
   "metadata": {},
   "outputs": [
    {
     "name": "stdout",
     "output_type": "stream",
     "text": [
      "We can't reject H0.\n"
     ]
    }
   ],
   "source": [
    "if task2_p_value < task2_alpha:\n",
    "    print('We reject H0 and accept the alternative one.')\n",
    "else:\n",
    "    print(\"We can't reject H0.\")"
   ]
  },
  {
   "cell_type": "markdown",
   "metadata": {},
   "source": [
    "Вы заподозрили, что производитель сознательно завышает количество граммов, указанное на упаковке, в то время как на самом деле средняя масса ниже. Сформулируйте соответствующую альтернативную гипотезу и протестируйте ее.\n",
    "\n",
    "Чему в таком случае равно значение p-value? Ответ округлите до 3 знаков после разделительной точки."
   ]
  },
  {
   "cell_type": "code",
   "execution_count": 21,
   "metadata": {},
   "outputs": [],
   "source": [
    "# H0: global_mean = 455\n",
    "# H1: global_mean < 455"
   ]
  },
  {
   "cell_type": "code",
   "execution_count": 28,
   "metadata": {},
   "outputs": [
    {
     "data": {
      "text/plain": [
       "0.027"
      ]
     },
     "execution_count": 28,
     "metadata": {},
     "output_type": "execute_result"
    }
   ],
   "source": [
    "task2_p_value_left = round(norm.cdf(task2_z_stat), 3) # because it's only left part < 455\n",
    "task2_p_value_left"
   ]
  },
  {
   "cell_type": "code",
   "execution_count": 26,
   "metadata": {},
   "outputs": [
    {
     "name": "stdout",
     "output_type": "stream",
     "text": [
      "We reject H0 and accept the alternative one.\n"
     ]
    }
   ],
   "source": [
    "if task2_p_value_left < task2_alpha:\n",
    "    print('We reject H0 and accept the alternative one.')\n",
    "else:\n",
    "    print(\"We can't reject H0.\")"
   ]
  },
  {
   "cell_type": "markdown",
   "metadata": {},
   "source": [
    "Чтобы использовать t, импортируйте:\n",
    "\n",
    "from scipy.stats import t\n",
    "Чтобы найти p-value для t-статистики, применяйте одну из функций:\n",
    "\n",
    "- t.cdf(), если в альтернативной гипотезе стоит знак <; эта функция находит площадь под «левым хвостом» на графике плотности распределения Стьюдента — площадь под кривой слева от заданной точки;  \n",
    "- 1 - t.cdf(), если в альтернативной гипотезе стоит знак >; эта функция находит площадь под «правым хвостом» на графике плотности распределения Стьюдента — площадь под кривой справа от заданной точки. Вместо этой функции можно использовать метод t.sf() = 1 - t.cdf().  \n",
    "- (1 - t.cdf()) * 2, если в альтернативной гипотезе стоит знак ≠; эта функция считает площадь под правым хвостом. Первый аргумент следует взять по модулю 2*(1 -t.cdf(abs(x), df).  \n",
    "- Функция scipy.stats.t.cdf() имеет два обязательных позиционных аргумента: x и df. Количество степеней свободы df — находим как k = (n - 1).  "
   ]
  },
  {
   "cell_type": "markdown",
   "metadata": {},
   "source": [
    "### Практика. z-статистика и t-статистика\n",
    "#### Задача 3. Условия\n",
    "\n",
    "Производитель утверждает, что новая модель кондиционера для воздуха потребляет только 6.5 кВт⋅ч электричества в день. Однако в союзе потребителей убеждены, что истинное среднее количество потребляемой энергии выше этого значения.\n",
    "\n",
    "Союз проводит собственное исследование на основании случайной выборки в 25 кондиционеров и находит, что выборочное среднее значение равно 7 кВт⋅ч. Известно, что количество потребляемой кондиционером энергии распределено нормально и его истинное стандартное отклонение равно 1.4 кВт⋅ч."
   ]
  },
  {
   "cell_type": "code",
   "execution_count": 30,
   "metadata": {},
   "outputs": [],
   "source": [
    "task3_global_mean = 6.5\n",
    "task3_sigma = 1.4\n",
    "\n",
    "task3_n = 25\n",
    "task3_sample_mean = 7\n",
    "task3_alpha = 0.05\n",
    "\n",
    "# H0: global_mean = 6.5\n",
    "# H1: global_mean > 6.5"
   ]
  },
  {
   "cell_type": "code",
   "execution_count": 31,
   "metadata": {},
   "outputs": [
    {
     "data": {
      "text/plain": [
       "1.7857142857142858"
      ]
     },
     "execution_count": 31,
     "metadata": {},
     "output_type": "execute_result"
    }
   ],
   "source": [
    "task3_z_stat = (task3_sample_mean - task3_global_mean) / (task3_sigma / np.sqrt(task3_n))\n",
    "task3_z_stat"
   ]
  },
  {
   "cell_type": "code",
   "execution_count": 32,
   "metadata": {
    "scrolled": true
   },
   "outputs": [
    {
     "data": {
      "text/plain": [
       "0.037"
      ]
     },
     "execution_count": 32,
     "metadata": {},
     "output_type": "execute_result"
    }
   ],
   "source": [
    "task3_p_value = round(1 - norm.cdf(task3_z_stat), 3)\n",
    "task3_p_value"
   ]
  },
  {
   "cell_type": "code",
   "execution_count": 33,
   "metadata": {},
   "outputs": [
    {
     "name": "stdout",
     "output_type": "stream",
     "text": [
      "We reject H0 and accept the alternative one.\n"
     ]
    }
   ],
   "source": [
    "if task3_p_value < task3_alpha:\n",
    "    print('We reject H0 and accept the alternative one.')\n",
    "else:\n",
    "    print(\"We can't reject H0.\")"
   ]
  },
  {
   "cell_type": "markdown",
   "metadata": {},
   "source": [
    "#### Задача 4. Условия\n",
    "\n",
    "Региональные власти утверждают, что средний годовой доход домохозяйства составляет 12000 US dollars. Экономист, подозревая, что истинный средний доход может быть меньше, находит на случайной выборке из 135 домохозяйств этого региона, что средний доход равен 11500 US dollars, а стандартное отклонение равно 5110 US dollars."
   ]
  },
  {
   "cell_type": "code",
   "execution_count": 34,
   "metadata": {},
   "outputs": [],
   "source": [
    "task4_global_mean = 12000\n",
    "task4_sigma = 5110\n",
    "\n",
    "task4_n = 135\n",
    "task4_sample_mean = 11500\n",
    "task4_alpha = 0.05\n",
    "\n",
    "# H0: global_mean = 12000\n",
    "# H1: global_mean < 12000"
   ]
  },
  {
   "cell_type": "code",
   "execution_count": 35,
   "metadata": {},
   "outputs": [
    {
     "data": {
      "text/plain": [
       "-1.1368835654229208"
      ]
     },
     "execution_count": 35,
     "metadata": {},
     "output_type": "execute_result"
    }
   ],
   "source": [
    "task4_z_stat = (task4_sample_mean - task4_global_mean) / (task4_sigma / np.sqrt(task4_n))\n",
    "task4_z_stat"
   ]
  },
  {
   "cell_type": "code",
   "execution_count": 37,
   "metadata": {
    "scrolled": true
   },
   "outputs": [
    {
     "data": {
      "text/plain": [
       "0.128"
      ]
     },
     "execution_count": 37,
     "metadata": {},
     "output_type": "execute_result"
    }
   ],
   "source": [
    "task4_p_value = round(norm.cdf(task4_z_stat), 3)\n",
    "task4_p_value"
   ]
  },
  {
   "cell_type": "code",
   "execution_count": 38,
   "metadata": {},
   "outputs": [
    {
     "name": "stdout",
     "output_type": "stream",
     "text": [
      "We can't reject H0.\n"
     ]
    }
   ],
   "source": [
    "if task4_p_value < task4_alpha:\n",
    "    print('We reject H0 and accept the alternative one.')\n",
    "else:\n",
    "    print(\"We can't reject H0.\")"
   ]
  },
  {
   "cell_type": "code",
   "execution_count": 39,
   "metadata": {},
   "outputs": [
    {
     "data": {
      "text/plain": [
       "[6.1, 9.2, 11.5, 8.6, 12.1, 3.9, 8.4, 10.1, 9.4, 8.9]"
      ]
     },
     "execution_count": 39,
     "metadata": {},
     "output_type": "execute_result"
    }
   ],
   "source": [
    "data = [float(each) for each in \"6.1\t9.2\t11.5\t8.6\t12.1\t3.9\t8.4\t10.1\t9.4\t8.9\".split()]\n",
    "data"
   ]
  },
  {
   "cell_type": "code",
   "execution_count": 40,
   "metadata": {},
   "outputs": [],
   "source": [
    "task5_global_mean = 10\n",
    "task5_sigma = np.std(data, ddof=1)\n",
    "\n",
    "task5_n = 10\n",
    "task5_sample_mean = np.mean(data)\n",
    "task5_alpha = 0.05\n",
    "\n",
    "# H0: global_mean = 10\n",
    "# H1: global_mean < 10"
   ]
  },
  {
   "cell_type": "code",
   "execution_count": 41,
   "metadata": {},
   "outputs": [
    {
     "data": {
      "text/plain": [
       "-1.5539474193444394"
      ]
     },
     "execution_count": 41,
     "metadata": {},
     "output_type": "execute_result"
    }
   ],
   "source": [
    "task5_z_stat = (task5_sample_mean - task5_global_mean) / (task5_sigma / np.sqrt(task5_n))\n",
    "task5_z_stat"
   ]
  },
  {
   "cell_type": "code",
   "execution_count": 43,
   "metadata": {},
   "outputs": [
    {
     "data": {
      "text/plain": [
       "0.077"
      ]
     },
     "execution_count": 43,
     "metadata": {},
     "output_type": "execute_result"
    }
   ],
   "source": [
    "task5_p_value = round(t.cdf(task5_z_stat, task5_n - 1), 3)\n",
    "task5_p_value"
   ]
  },
  {
   "cell_type": "markdown",
   "metadata": {},
   "source": [
    "#### Задача 6. Условия\n",
    "\n",
    "Представитель профсоюза утверждает, что 75% сотрудников готовы присоединиться к забастовке, если их требования не будут удовлетворены. Сотрудник компании, ведущий переговоры с профсоюзом, считает, что эта пропорция сильно преувеличена. Он решает проверить утверждение представителя профсоюза, используя уровень значимости 5%. Таким образом, ему надо протестировать следующий набор гипотез: \\[H_{0}: p = 0.75, H_{A}:p < 0.75\\]\n",
    "\n",
    "В выборке из 125 сотрудников 87 ответили, что будут готовы поддержать забастовку в случае неудовлетворения требования профсоюза."
   ]
  },
  {
   "cell_type": "code",
   "execution_count": 65,
   "metadata": {},
   "outputs": [],
   "source": [
    "task6_p0 = 0.75\n",
    "\n",
    "task6_n = 125\n",
    "task6_p_sample = 87/task6_n\n",
    "task6_alpha = 0.05\n",
    "\n",
    "# H0: p = 0.75\n",
    "# H1: p < 0.75"
   ]
  },
  {
   "cell_type": "code",
   "execution_count": 66,
   "metadata": {},
   "outputs": [],
   "source": [
    "# checks\n",
    "assert task6_n * task6_p_sample > 5\n",
    "assert task6_n * (1 - task6_p_sample) > 5"
   ]
  },
  {
   "cell_type": "code",
   "execution_count": 67,
   "metadata": {},
   "outputs": [
    {
     "data": {
      "text/plain": [
       "-1.3942740046346713"
      ]
     },
     "execution_count": 67,
     "metadata": {},
     "output_type": "execute_result"
    }
   ],
   "source": [
    "task6_z_stat = (task6_p_sample - task6_p0) / np.sqrt(task6_p0 * (1-task6_p0) / task6_n)\n",
    "task6_z_stat"
   ]
  },
  {
   "cell_type": "code",
   "execution_count": 68,
   "metadata": {},
   "outputs": [
    {
     "data": {
      "text/plain": [
       "0.082"
      ]
     },
     "execution_count": 68,
     "metadata": {},
     "output_type": "execute_result"
    }
   ],
   "source": [
    "task6_p_value = round(norm.cdf(task6_z_stat), 3)\n",
    "task6_p_value"
   ]
  },
  {
   "cell_type": "code",
   "execution_count": 69,
   "metadata": {},
   "outputs": [
    {
     "name": "stdout",
     "output_type": "stream",
     "text": [
      "We can't reject H0.\n"
     ]
    }
   ],
   "source": [
    "if task6_p_value < task6_alpha:\n",
    "    print('We reject H0 and accept the alternative one.')\n",
    "else:\n",
    "    print(\"We can't reject H0.\")"
   ]
  },
  {
   "cell_type": "code",
   "execution_count": null,
   "metadata": {},
   "outputs": [],
   "source": []
  }
 ],
 "metadata": {
  "kernelspec": {
   "display_name": "Python 3",
   "language": "python",
   "name": "python3"
  },
  "language_info": {
   "codemirror_mode": {
    "name": "ipython",
    "version": 3
   },
   "file_extension": ".py",
   "mimetype": "text/x-python",
   "name": "python",
   "nbconvert_exporter": "python",
   "pygments_lexer": "ipython3",
   "version": "3.8.5"
  }
 },
 "nbformat": 4,
 "nbformat_minor": 4
}
